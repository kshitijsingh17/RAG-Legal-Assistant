{
 "cells": [
  {
   "cell_type": "markdown",
   "metadata": {},
   "source": [
    "## Experimenting with how many tokens there are in the provided contract data"
   ]
  },
  {
   "cell_type": "code",
   "execution_count": 1,
   "metadata": {},
   "outputs": [
    {
     "name": "stdout",
     "output_type": "stream",
     "text": [
      "Requirement already satisfied: tiktoken in /Users/abdi/miniconda3/envs/legal_contract_advisor/lib/python3.10/site-packages (0.6.0)\n",
      "Requirement already satisfied: regex>=2022.1.18 in /Users/abdi/miniconda3/envs/legal_contract_advisor/lib/python3.10/site-packages (from tiktoken) (2023.12.25)\n",
      "Requirement already satisfied: requests>=2.26.0 in /Users/abdi/miniconda3/envs/legal_contract_advisor/lib/python3.10/site-packages (from tiktoken) (2.31.0)\n",
      "Requirement already satisfied: charset-normalizer<4,>=2 in /Users/abdi/miniconda3/envs/legal_contract_advisor/lib/python3.10/site-packages (from requests>=2.26.0->tiktoken) (3.3.2)\n",
      "Requirement already satisfied: idna<4,>=2.5 in /Users/abdi/miniconda3/envs/legal_contract_advisor/lib/python3.10/site-packages (from requests>=2.26.0->tiktoken) (3.6)\n",
      "Requirement already satisfied: urllib3<3,>=1.21.1 in /Users/abdi/miniconda3/envs/legal_contract_advisor/lib/python3.10/site-packages (from requests>=2.26.0->tiktoken) (2.2.1)\n",
      "Requirement already satisfied: certifi>=2017.4.17 in /Users/abdi/miniconda3/envs/legal_contract_advisor/lib/python3.10/site-packages (from requests>=2.26.0->tiktoken) (2024.2.2)\n",
      "Note: you may need to restart the kernel to use updated packages.\n"
     ]
    }
   ],
   "source": [
    "%pip install tiktoken"
   ]
  },
  {
   "cell_type": "code",
   "execution_count": 4,
   "metadata": {},
   "outputs": [],
   "source": [
    "import tiktoken\n",
    "\n",
    "# To get the tokeniser corresponding to a specific model in the OpenAI API:\n",
    "enc = tiktoken.encoding_for_model(\"gpt-3.5-turbo\")"
   ]
  },
  {
   "cell_type": "code",
   "execution_count": 7,
   "metadata": {},
   "outputs": [
    {
     "data": {
      "text/plain": [
       "Document(page_content='[R&G\\nDraft\\n12.__.2021]\\nSTOCK\\nPURCHASE\\nAGREEMENT\\nBY\\nAND\\nAMONG\\n[BUYER],\\n[TARGET\\nCOMP ANY],\\nTHE\\nSELLERS\\nLISTED\\nON\\nSCHEDULE\\nI\\nHERET O\\nAND\\nTHE\\nSELLERS’\\nREPRESENT ATIVE\\nNAMED\\nHEREIN\\nDated\\nas\\nof\\n[●]\\n[This\\ndocument\\nis\\nintended\\nsolely\\nto\\nfacilitate\\ndiscussions\\namong\\nthe\\nparties\\nidentified\\nherein. \\nNeither\\nthis\\ndocument\\nnor\\nsuch\\ndiscussions\\nare\\nintended\\nto\\ncreate,\\nnor\\nwill\\neither\\nor\\nboth\\nbe \\ndeemed\\nto\\ncreate,\\na\\nlegally\\nbinding\\nor\\nenforceable\\noffer\\nor\\nagreement\\nof\\nany\\ntype\\nor\\nnature, \\nunless\\nand\\nuntil\\na\\ndefinitive\\nwritten\\nagreement\\nis\\nexecuted\\nand\\ndelivered\\nby\\neach\\nof\\nthe\\nparties \\nhereto.\\nThis\\ndocument\\nshall\\nbe\\nkept\\nconfidential\\npursuant\\nto\\nthe\\nterms\\nof\\nthe\\nConfidentiality \\nAgreement\\nentered\\ninto\\nby\\nthe\\nparties\\nand,\\nif\\napplicable,\\nits\\naffiliates\\nwith\\nrespect\\nto\\nthe\\nsubject \\nmatter\\nhereof.]\\n112923184_5\\n', metadata={'source': '../data/Raptor Contract.docx.pdf', 'page': 0})"
      ]
     },
     "execution_count": 7,
     "metadata": {},
     "output_type": "execute_result"
    }
   ],
   "source": [
    "from langchain_community.document_loaders import PyPDFLoader\n",
    "\n",
    "loader = PyPDFLoader(\"../data/Raptor Contract.docx.pdf\")\n",
    "pages = loader.load()\n",
    "pages[0]"
   ]
  },
  {
   "cell_type": "code",
   "execution_count": 15,
   "metadata": {},
   "outputs": [
    {
     "data": {
      "text/plain": [
       "35562"
      ]
     },
     "execution_count": 15,
     "metadata": {},
     "output_type": "execute_result"
    }
   ],
   "source": [
    "# iterate over the pages and add it to a single text variable\n",
    "text = \"\"\n",
    "for page in pages:\n",
    "    text += page.page_content\n",
    "# get number of words from text\n",
    "len(text.split())"
   ]
  },
  {
   "cell_type": "markdown",
   "metadata": {},
   "source": [
    "## Number of tokens"
   ]
  },
  {
   "cell_type": "code",
   "execution_count": 11,
   "metadata": {},
   "outputs": [
    {
     "data": {
      "text/plain": [
       "81061"
      ]
     },
     "execution_count": 11,
     "metadata": {},
     "output_type": "execute_result"
    }
   ],
   "source": [
    "len(enc.encode(text))"
   ]
  },
  {
   "cell_type": "markdown",
   "metadata": {},
   "source": [
    "## Calculating how much it costs to embed the text using OpenAI Embedding\n",
    "1000 Token = $0.0001\n",
    "81061 Token =?\n",
    "\n",
    "Cost = $0.0081061\n"
   ]
  },
  {
   "cell_type": "code",
   "execution_count": null,
   "metadata": {},
   "outputs": [],
   "source": []
  },
  {
   "cell_type": "code",
   "execution_count": null,
   "metadata": {},
   "outputs": [],
   "source": []
  }
 ],
 "metadata": {
  "kernelspec": {
   "display_name": "legal_contract_advisor",
   "language": "python",
   "name": "python3"
  },
  "language_info": {
   "codemirror_mode": {
    "name": "ipython",
    "version": 3
   },
   "file_extension": ".py",
   "mimetype": "text/x-python",
   "name": "python",
   "nbconvert_exporter": "python",
   "pygments_lexer": "ipython3",
   "version": "3.10.13"
  }
 },
 "nbformat": 4,
 "nbformat_minor": 2
}
