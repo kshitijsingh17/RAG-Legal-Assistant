{
 "cells": [
  {
   "cell_type": "code",
   "execution_count": 52,
   "metadata": {},
   "outputs": [
    {
     "name": "stdout",
     "output_type": "stream",
     "text": [
      "Requirement already satisfied: langchain in /Users/abdi/miniconda3/envs/legal_contract_advisor/lib/python3.10/site-packages (0.1.8)\n",
      "Requirement already satisfied: PyYAML>=5.3 in /Users/abdi/miniconda3/envs/legal_contract_advisor/lib/python3.10/site-packages (from langchain) (6.0.1)\n",
      "Requirement already satisfied: SQLAlchemy<3,>=1.4 in /Users/abdi/miniconda3/envs/legal_contract_advisor/lib/python3.10/site-packages (from langchain) (2.0.27)\n",
      "Requirement already satisfied: aiohttp<4.0.0,>=3.8.3 in /Users/abdi/miniconda3/envs/legal_contract_advisor/lib/python3.10/site-packages (from langchain) (3.9.3)\n",
      "Requirement already satisfied: async-timeout<5.0.0,>=4.0.0 in /Users/abdi/miniconda3/envs/legal_contract_advisor/lib/python3.10/site-packages (from langchain) (4.0.3)\n",
      "Requirement already satisfied: dataclasses-json<0.7,>=0.5.7 in /Users/abdi/miniconda3/envs/legal_contract_advisor/lib/python3.10/site-packages (from langchain) (0.6.4)\n",
      "Requirement already satisfied: jsonpatch<2.0,>=1.33 in /Users/abdi/miniconda3/envs/legal_contract_advisor/lib/python3.10/site-packages (from langchain) (1.33)\n",
      "Requirement already satisfied: langchain-community<0.1,>=0.0.21 in /Users/abdi/miniconda3/envs/legal_contract_advisor/lib/python3.10/site-packages (from langchain) (0.0.21)\n",
      "Requirement already satisfied: langchain-core<0.2,>=0.1.24 in /Users/abdi/miniconda3/envs/legal_contract_advisor/lib/python3.10/site-packages (from langchain) (0.1.25)\n",
      "Requirement already satisfied: langsmith<0.2.0,>=0.1.0 in /Users/abdi/miniconda3/envs/legal_contract_advisor/lib/python3.10/site-packages (from langchain) (0.1.5)\n",
      "Requirement already satisfied: numpy<2,>=1 in /Users/abdi/miniconda3/envs/legal_contract_advisor/lib/python3.10/site-packages (from langchain) (1.26.4)\n",
      "Requirement already satisfied: pydantic<3,>=1 in /Users/abdi/miniconda3/envs/legal_contract_advisor/lib/python3.10/site-packages (from langchain) (2.6.1)\n",
      "Requirement already satisfied: requests<3,>=2 in /Users/abdi/miniconda3/envs/legal_contract_advisor/lib/python3.10/site-packages (from langchain) (2.31.0)\n",
      "Requirement already satisfied: tenacity<9.0.0,>=8.1.0 in /Users/abdi/miniconda3/envs/legal_contract_advisor/lib/python3.10/site-packages (from langchain) (8.2.3)\n",
      "Requirement already satisfied: aiosignal>=1.1.2 in /Users/abdi/miniconda3/envs/legal_contract_advisor/lib/python3.10/site-packages (from aiohttp<4.0.0,>=3.8.3->langchain) (1.3.1)\n",
      "Requirement already satisfied: attrs>=17.3.0 in /Users/abdi/miniconda3/envs/legal_contract_advisor/lib/python3.10/site-packages (from aiohttp<4.0.0,>=3.8.3->langchain) (23.2.0)\n",
      "Requirement already satisfied: frozenlist>=1.1.1 in /Users/abdi/miniconda3/envs/legal_contract_advisor/lib/python3.10/site-packages (from aiohttp<4.0.0,>=3.8.3->langchain) (1.4.1)\n",
      "Requirement already satisfied: multidict<7.0,>=4.5 in /Users/abdi/miniconda3/envs/legal_contract_advisor/lib/python3.10/site-packages (from aiohttp<4.0.0,>=3.8.3->langchain) (6.0.5)\n",
      "Requirement already satisfied: yarl<2.0,>=1.0 in /Users/abdi/miniconda3/envs/legal_contract_advisor/lib/python3.10/site-packages (from aiohttp<4.0.0,>=3.8.3->langchain) (1.9.4)\n",
      "Requirement already satisfied: marshmallow<4.0.0,>=3.18.0 in /Users/abdi/miniconda3/envs/legal_contract_advisor/lib/python3.10/site-packages (from dataclasses-json<0.7,>=0.5.7->langchain) (3.20.2)\n",
      "Requirement already satisfied: typing-inspect<1,>=0.4.0 in /Users/abdi/miniconda3/envs/legal_contract_advisor/lib/python3.10/site-packages (from dataclasses-json<0.7,>=0.5.7->langchain) (0.9.0)\n",
      "Requirement already satisfied: jsonpointer>=1.9 in /Users/abdi/miniconda3/envs/legal_contract_advisor/lib/python3.10/site-packages (from jsonpatch<2.0,>=1.33->langchain) (2.4)\n",
      "Requirement already satisfied: anyio<5,>=3 in /Users/abdi/miniconda3/envs/legal_contract_advisor/lib/python3.10/site-packages (from langchain-core<0.2,>=0.1.24->langchain) (4.3.0)\n",
      "Requirement already satisfied: packaging<24.0,>=23.2 in /Users/abdi/miniconda3/envs/legal_contract_advisor/lib/python3.10/site-packages (from langchain-core<0.2,>=0.1.24->langchain) (23.2)\n",
      "Requirement already satisfied: annotated-types>=0.4.0 in /Users/abdi/miniconda3/envs/legal_contract_advisor/lib/python3.10/site-packages (from pydantic<3,>=1->langchain) (0.6.0)\n",
      "Requirement already satisfied: pydantic-core==2.16.2 in /Users/abdi/miniconda3/envs/legal_contract_advisor/lib/python3.10/site-packages (from pydantic<3,>=1->langchain) (2.16.2)\n",
      "Requirement already satisfied: typing-extensions>=4.6.1 in /Users/abdi/miniconda3/envs/legal_contract_advisor/lib/python3.10/site-packages (from pydantic<3,>=1->langchain) (4.9.0)\n",
      "Requirement already satisfied: charset-normalizer<4,>=2 in /Users/abdi/miniconda3/envs/legal_contract_advisor/lib/python3.10/site-packages (from requests<3,>=2->langchain) (3.3.2)\n",
      "Requirement already satisfied: idna<4,>=2.5 in /Users/abdi/miniconda3/envs/legal_contract_advisor/lib/python3.10/site-packages (from requests<3,>=2->langchain) (3.6)\n",
      "Requirement already satisfied: urllib3<3,>=1.21.1 in /Users/abdi/miniconda3/envs/legal_contract_advisor/lib/python3.10/site-packages (from requests<3,>=2->langchain) (2.2.1)\n",
      "Requirement already satisfied: certifi>=2017.4.17 in /Users/abdi/miniconda3/envs/legal_contract_advisor/lib/python3.10/site-packages (from requests<3,>=2->langchain) (2024.2.2)\n",
      "Requirement already satisfied: sniffio>=1.1 in /Users/abdi/miniconda3/envs/legal_contract_advisor/lib/python3.10/site-packages (from anyio<5,>=3->langchain-core<0.2,>=0.1.24->langchain) (1.3.0)\n",
      "Requirement already satisfied: exceptiongroup>=1.0.2 in /Users/abdi/miniconda3/envs/legal_contract_advisor/lib/python3.10/site-packages (from anyio<5,>=3->langchain-core<0.2,>=0.1.24->langchain) (1.2.0)\n",
      "Requirement already satisfied: mypy-extensions>=0.3.0 in /Users/abdi/miniconda3/envs/legal_contract_advisor/lib/python3.10/site-packages (from typing-inspect<1,>=0.4.0->dataclasses-json<0.7,>=0.5.7->langchain) (1.0.0)\n",
      "Note: you may need to restart the kernel to use updated packages.\n",
      "Requirement already satisfied: langchain-openai in /Users/abdi/miniconda3/envs/legal_contract_advisor/lib/python3.10/site-packages (0.0.6)\n",
      "Requirement already satisfied: langchain-core<0.2,>=0.1.16 in /Users/abdi/miniconda3/envs/legal_contract_advisor/lib/python3.10/site-packages (from langchain-openai) (0.1.25)\n",
      "Requirement already satisfied: numpy<2,>=1 in /Users/abdi/miniconda3/envs/legal_contract_advisor/lib/python3.10/site-packages (from langchain-openai) (1.26.4)\n",
      "Requirement already satisfied: openai<2.0.0,>=1.10.0 in /Users/abdi/miniconda3/envs/legal_contract_advisor/lib/python3.10/site-packages (from langchain-openai) (1.12.0)\n",
      "Requirement already satisfied: tiktoken<1,>=0.5.2 in /Users/abdi/miniconda3/envs/legal_contract_advisor/lib/python3.10/site-packages (from langchain-openai) (0.6.0)\n",
      "Requirement already satisfied: PyYAML>=5.3 in /Users/abdi/miniconda3/envs/legal_contract_advisor/lib/python3.10/site-packages (from langchain-core<0.2,>=0.1.16->langchain-openai) (6.0.1)\n",
      "Requirement already satisfied: anyio<5,>=3 in /Users/abdi/miniconda3/envs/legal_contract_advisor/lib/python3.10/site-packages (from langchain-core<0.2,>=0.1.16->langchain-openai) (4.3.0)\n",
      "Requirement already satisfied: jsonpatch<2.0,>=1.33 in /Users/abdi/miniconda3/envs/legal_contract_advisor/lib/python3.10/site-packages (from langchain-core<0.2,>=0.1.16->langchain-openai) (1.33)\n",
      "Requirement already satisfied: langsmith<0.2.0,>=0.1.0 in /Users/abdi/miniconda3/envs/legal_contract_advisor/lib/python3.10/site-packages (from langchain-core<0.2,>=0.1.16->langchain-openai) (0.1.5)\n",
      "Requirement already satisfied: packaging<24.0,>=23.2 in /Users/abdi/miniconda3/envs/legal_contract_advisor/lib/python3.10/site-packages (from langchain-core<0.2,>=0.1.16->langchain-openai) (23.2)\n",
      "Requirement already satisfied: pydantic<3,>=1 in /Users/abdi/miniconda3/envs/legal_contract_advisor/lib/python3.10/site-packages (from langchain-core<0.2,>=0.1.16->langchain-openai) (2.6.1)\n",
      "Requirement already satisfied: requests<3,>=2 in /Users/abdi/miniconda3/envs/legal_contract_advisor/lib/python3.10/site-packages (from langchain-core<0.2,>=0.1.16->langchain-openai) (2.31.0)\n",
      "Requirement already satisfied: tenacity<9.0.0,>=8.1.0 in /Users/abdi/miniconda3/envs/legal_contract_advisor/lib/python3.10/site-packages (from langchain-core<0.2,>=0.1.16->langchain-openai) (8.2.3)\n",
      "Requirement already satisfied: distro<2,>=1.7.0 in /Users/abdi/miniconda3/envs/legal_contract_advisor/lib/python3.10/site-packages (from openai<2.0.0,>=1.10.0->langchain-openai) (1.9.0)\n",
      "Requirement already satisfied: httpx<1,>=0.23.0 in /Users/abdi/miniconda3/envs/legal_contract_advisor/lib/python3.10/site-packages (from openai<2.0.0,>=1.10.0->langchain-openai) (0.26.0)\n",
      "Requirement already satisfied: sniffio in /Users/abdi/miniconda3/envs/legal_contract_advisor/lib/python3.10/site-packages (from openai<2.0.0,>=1.10.0->langchain-openai) (1.3.0)\n",
      "Requirement already satisfied: tqdm>4 in /Users/abdi/miniconda3/envs/legal_contract_advisor/lib/python3.10/site-packages (from openai<2.0.0,>=1.10.0->langchain-openai) (4.66.2)\n",
      "Requirement already satisfied: typing-extensions<5,>=4.7 in /Users/abdi/miniconda3/envs/legal_contract_advisor/lib/python3.10/site-packages (from openai<2.0.0,>=1.10.0->langchain-openai) (4.9.0)\n",
      "Requirement already satisfied: regex>=2022.1.18 in /Users/abdi/miniconda3/envs/legal_contract_advisor/lib/python3.10/site-packages (from tiktoken<1,>=0.5.2->langchain-openai) (2023.12.25)\n",
      "Requirement already satisfied: idna>=2.8 in /Users/abdi/miniconda3/envs/legal_contract_advisor/lib/python3.10/site-packages (from anyio<5,>=3->langchain-core<0.2,>=0.1.16->langchain-openai) (3.6)\n",
      "Requirement already satisfied: exceptiongroup>=1.0.2 in /Users/abdi/miniconda3/envs/legal_contract_advisor/lib/python3.10/site-packages (from anyio<5,>=3->langchain-core<0.2,>=0.1.16->langchain-openai) (1.2.0)\n",
      "Requirement already satisfied: certifi in /Users/abdi/miniconda3/envs/legal_contract_advisor/lib/python3.10/site-packages (from httpx<1,>=0.23.0->openai<2.0.0,>=1.10.0->langchain-openai) (2024.2.2)\n",
      "Requirement already satisfied: httpcore==1.* in /Users/abdi/miniconda3/envs/legal_contract_advisor/lib/python3.10/site-packages (from httpx<1,>=0.23.0->openai<2.0.0,>=1.10.0->langchain-openai) (1.0.3)\n",
      "Requirement already satisfied: h11<0.15,>=0.13 in /Users/abdi/miniconda3/envs/legal_contract_advisor/lib/python3.10/site-packages (from httpcore==1.*->httpx<1,>=0.23.0->openai<2.0.0,>=1.10.0->langchain-openai) (0.14.0)\n",
      "Requirement already satisfied: jsonpointer>=1.9 in /Users/abdi/miniconda3/envs/legal_contract_advisor/lib/python3.10/site-packages (from jsonpatch<2.0,>=1.33->langchain-core<0.2,>=0.1.16->langchain-openai) (2.4)\n",
      "Requirement already satisfied: annotated-types>=0.4.0 in /Users/abdi/miniconda3/envs/legal_contract_advisor/lib/python3.10/site-packages (from pydantic<3,>=1->langchain-core<0.2,>=0.1.16->langchain-openai) (0.6.0)\n",
      "Requirement already satisfied: pydantic-core==2.16.2 in /Users/abdi/miniconda3/envs/legal_contract_advisor/lib/python3.10/site-packages (from pydantic<3,>=1->langchain-core<0.2,>=0.1.16->langchain-openai) (2.16.2)\n",
      "Requirement already satisfied: charset-normalizer<4,>=2 in /Users/abdi/miniconda3/envs/legal_contract_advisor/lib/python3.10/site-packages (from requests<3,>=2->langchain-core<0.2,>=0.1.16->langchain-openai) (3.3.2)\n",
      "Requirement already satisfied: urllib3<3,>=1.21.1 in /Users/abdi/miniconda3/envs/legal_contract_advisor/lib/python3.10/site-packages (from requests<3,>=2->langchain-core<0.2,>=0.1.16->langchain-openai) (2.2.1)\n",
      "Note: you may need to restart the kernel to use updated packages.\n",
      "Requirement already satisfied: python-dotenv in /Users/abdi/miniconda3/envs/legal_contract_advisor/lib/python3.10/site-packages (1.0.1)\n",
      "Note: you may need to restart the kernel to use updated packages.\n",
      "Collecting PyPDF2\n",
      "  Downloading pypdf2-3.0.1-py3-none-any.whl.metadata (6.8 kB)\n",
      "Using cached pypdf2-3.0.1-py3-none-any.whl (232 kB)\n",
      "Installing collected packages: PyPDF2\n",
      "Successfully installed PyPDF2-3.0.1\n",
      "Note: you may need to restart the kernel to use updated packages.\n",
      "Requirement already satisfied: chromadb in /Users/abdi/miniconda3/envs/legal_contract_advisor/lib/python3.10/site-packages (0.4.22)\n",
      "Requirement already satisfied: build>=1.0.3 in /Users/abdi/miniconda3/envs/legal_contract_advisor/lib/python3.10/site-packages (from chromadb) (1.0.3)\n",
      "Requirement already satisfied: requests>=2.28 in /Users/abdi/miniconda3/envs/legal_contract_advisor/lib/python3.10/site-packages (from chromadb) (2.31.0)\n",
      "Requirement already satisfied: pydantic>=1.9 in /Users/abdi/miniconda3/envs/legal_contract_advisor/lib/python3.10/site-packages (from chromadb) (2.6.1)\n",
      "Requirement already satisfied: chroma-hnswlib==0.7.3 in /Users/abdi/miniconda3/envs/legal_contract_advisor/lib/python3.10/site-packages (from chromadb) (0.7.3)\n",
      "Requirement already satisfied: fastapi>=0.95.2 in /Users/abdi/miniconda3/envs/legal_contract_advisor/lib/python3.10/site-packages (from chromadb) (0.109.2)\n",
      "Requirement already satisfied: uvicorn>=0.18.3 in /Users/abdi/miniconda3/envs/legal_contract_advisor/lib/python3.10/site-packages (from uvicorn[standard]>=0.18.3->chromadb) (0.27.1)\n",
      "Requirement already satisfied: numpy>=1.22.5 in /Users/abdi/miniconda3/envs/legal_contract_advisor/lib/python3.10/site-packages (from chromadb) (1.26.4)\n",
      "Requirement already satisfied: posthog>=2.4.0 in /Users/abdi/miniconda3/envs/legal_contract_advisor/lib/python3.10/site-packages (from chromadb) (3.4.2)\n",
      "Requirement already satisfied: typing-extensions>=4.5.0 in /Users/abdi/miniconda3/envs/legal_contract_advisor/lib/python3.10/site-packages (from chromadb) (4.9.0)\n",
      "Requirement already satisfied: pulsar-client>=3.1.0 in /Users/abdi/miniconda3/envs/legal_contract_advisor/lib/python3.10/site-packages (from chromadb) (3.4.0)\n",
      "Requirement already satisfied: onnxruntime>=1.14.1 in /Users/abdi/miniconda3/envs/legal_contract_advisor/lib/python3.10/site-packages (from chromadb) (1.17.0)\n",
      "Requirement already satisfied: opentelemetry-api>=1.2.0 in /Users/abdi/miniconda3/envs/legal_contract_advisor/lib/python3.10/site-packages (from chromadb) (1.22.0)\n",
      "Requirement already satisfied: opentelemetry-exporter-otlp-proto-grpc>=1.2.0 in /Users/abdi/miniconda3/envs/legal_contract_advisor/lib/python3.10/site-packages (from chromadb) (1.22.0)\n",
      "Requirement already satisfied: opentelemetry-instrumentation-fastapi>=0.41b0 in /Users/abdi/miniconda3/envs/legal_contract_advisor/lib/python3.10/site-packages (from chromadb) (0.43b0)\n",
      "Requirement already satisfied: opentelemetry-sdk>=1.2.0 in /Users/abdi/miniconda3/envs/legal_contract_advisor/lib/python3.10/site-packages (from chromadb) (1.22.0)\n",
      "Requirement already satisfied: tokenizers>=0.13.2 in /Users/abdi/miniconda3/envs/legal_contract_advisor/lib/python3.10/site-packages (from chromadb) (0.15.2)\n",
      "Requirement already satisfied: pypika>=0.48.9 in /Users/abdi/miniconda3/envs/legal_contract_advisor/lib/python3.10/site-packages (from chromadb) (0.48.9)\n",
      "Requirement already satisfied: tqdm>=4.65.0 in /Users/abdi/miniconda3/envs/legal_contract_advisor/lib/python3.10/site-packages (from chromadb) (4.66.2)\n",
      "Requirement already satisfied: overrides>=7.3.1 in /Users/abdi/miniconda3/envs/legal_contract_advisor/lib/python3.10/site-packages (from chromadb) (7.7.0)\n",
      "Requirement already satisfied: importlib-resources in /Users/abdi/miniconda3/envs/legal_contract_advisor/lib/python3.10/site-packages (from chromadb) (6.1.1)\n",
      "Requirement already satisfied: grpcio>=1.58.0 in /Users/abdi/miniconda3/envs/legal_contract_advisor/lib/python3.10/site-packages (from chromadb) (1.60.1)\n",
      "Requirement already satisfied: bcrypt>=4.0.1 in /Users/abdi/miniconda3/envs/legal_contract_advisor/lib/python3.10/site-packages (from chromadb) (4.1.2)\n",
      "Requirement already satisfied: typer>=0.9.0 in /Users/abdi/miniconda3/envs/legal_contract_advisor/lib/python3.10/site-packages (from chromadb) (0.9.0)\n",
      "Requirement already satisfied: kubernetes>=28.1.0 in /Users/abdi/miniconda3/envs/legal_contract_advisor/lib/python3.10/site-packages (from chromadb) (29.0.0)\n",
      "Requirement already satisfied: tenacity>=8.2.3 in /Users/abdi/miniconda3/envs/legal_contract_advisor/lib/python3.10/site-packages (from chromadb) (8.2.3)\n",
      "Requirement already satisfied: PyYAML>=6.0.0 in /Users/abdi/miniconda3/envs/legal_contract_advisor/lib/python3.10/site-packages (from chromadb) (6.0.1)\n",
      "Requirement already satisfied: mmh3>=4.0.1 in /Users/abdi/miniconda3/envs/legal_contract_advisor/lib/python3.10/site-packages (from chromadb) (4.1.0)\n",
      "Requirement already satisfied: packaging>=19.0 in /Users/abdi/miniconda3/envs/legal_contract_advisor/lib/python3.10/site-packages (from build>=1.0.3->chromadb) (23.2)\n",
      "Requirement already satisfied: pyproject_hooks in /Users/abdi/miniconda3/envs/legal_contract_advisor/lib/python3.10/site-packages (from build>=1.0.3->chromadb) (1.0.0)\n",
      "Requirement already satisfied: tomli>=1.1.0 in /Users/abdi/miniconda3/envs/legal_contract_advisor/lib/python3.10/site-packages (from build>=1.0.3->chromadb) (2.0.1)\n",
      "Requirement already satisfied: starlette<0.37.0,>=0.36.3 in /Users/abdi/miniconda3/envs/legal_contract_advisor/lib/python3.10/site-packages (from fastapi>=0.95.2->chromadb) (0.36.3)\n",
      "Requirement already satisfied: certifi>=14.05.14 in /Users/abdi/miniconda3/envs/legal_contract_advisor/lib/python3.10/site-packages (from kubernetes>=28.1.0->chromadb) (2024.2.2)\n",
      "Requirement already satisfied: six>=1.9.0 in /Users/abdi/miniconda3/envs/legal_contract_advisor/lib/python3.10/site-packages (from kubernetes>=28.1.0->chromadb) (1.16.0)\n",
      "Requirement already satisfied: python-dateutil>=2.5.3 in /Users/abdi/miniconda3/envs/legal_contract_advisor/lib/python3.10/site-packages (from kubernetes>=28.1.0->chromadb) (2.8.2)\n",
      "Requirement already satisfied: google-auth>=1.0.1 in /Users/abdi/miniconda3/envs/legal_contract_advisor/lib/python3.10/site-packages (from kubernetes>=28.1.0->chromadb) (2.28.0)\n",
      "Requirement already satisfied: websocket-client!=0.40.0,!=0.41.*,!=0.42.*,>=0.32.0 in /Users/abdi/miniconda3/envs/legal_contract_advisor/lib/python3.10/site-packages (from kubernetes>=28.1.0->chromadb) (1.7.0)\n",
      "Requirement already satisfied: requests-oauthlib in /Users/abdi/miniconda3/envs/legal_contract_advisor/lib/python3.10/site-packages (from kubernetes>=28.1.0->chromadb) (1.3.1)\n",
      "Requirement already satisfied: oauthlib>=3.2.2 in /Users/abdi/miniconda3/envs/legal_contract_advisor/lib/python3.10/site-packages (from kubernetes>=28.1.0->chromadb) (3.2.2)\n",
      "Requirement already satisfied: urllib3>=1.24.2 in /Users/abdi/miniconda3/envs/legal_contract_advisor/lib/python3.10/site-packages (from kubernetes>=28.1.0->chromadb) (2.2.1)\n",
      "Requirement already satisfied: coloredlogs in /Users/abdi/miniconda3/envs/legal_contract_advisor/lib/python3.10/site-packages (from onnxruntime>=1.14.1->chromadb) (15.0.1)\n",
      "Requirement already satisfied: flatbuffers in /Users/abdi/miniconda3/envs/legal_contract_advisor/lib/python3.10/site-packages (from onnxruntime>=1.14.1->chromadb) (23.5.26)\n",
      "Requirement already satisfied: protobuf in /Users/abdi/miniconda3/envs/legal_contract_advisor/lib/python3.10/site-packages (from onnxruntime>=1.14.1->chromadb) (4.25.3)\n",
      "Requirement already satisfied: sympy in /Users/abdi/miniconda3/envs/legal_contract_advisor/lib/python3.10/site-packages (from onnxruntime>=1.14.1->chromadb) (1.12)\n",
      "Requirement already satisfied: deprecated>=1.2.6 in /Users/abdi/miniconda3/envs/legal_contract_advisor/lib/python3.10/site-packages (from opentelemetry-api>=1.2.0->chromadb) (1.2.14)\n",
      "Requirement already satisfied: importlib-metadata<7.0,>=6.0 in /Users/abdi/miniconda3/envs/legal_contract_advisor/lib/python3.10/site-packages (from opentelemetry-api>=1.2.0->chromadb) (6.11.0)\n",
      "Requirement already satisfied: backoff<3.0.0,>=1.10.0 in /Users/abdi/miniconda3/envs/legal_contract_advisor/lib/python3.10/site-packages (from opentelemetry-exporter-otlp-proto-grpc>=1.2.0->chromadb) (2.2.1)\n",
      "Requirement already satisfied: googleapis-common-protos~=1.52 in /Users/abdi/miniconda3/envs/legal_contract_advisor/lib/python3.10/site-packages (from opentelemetry-exporter-otlp-proto-grpc>=1.2.0->chromadb) (1.62.0)\n",
      "Requirement already satisfied: opentelemetry-exporter-otlp-proto-common==1.22.0 in /Users/abdi/miniconda3/envs/legal_contract_advisor/lib/python3.10/site-packages (from opentelemetry-exporter-otlp-proto-grpc>=1.2.0->chromadb) (1.22.0)\n",
      "Requirement already satisfied: opentelemetry-proto==1.22.0 in /Users/abdi/miniconda3/envs/legal_contract_advisor/lib/python3.10/site-packages (from opentelemetry-exporter-otlp-proto-grpc>=1.2.0->chromadb) (1.22.0)\n",
      "Requirement already satisfied: opentelemetry-instrumentation-asgi==0.43b0 in /Users/abdi/miniconda3/envs/legal_contract_advisor/lib/python3.10/site-packages (from opentelemetry-instrumentation-fastapi>=0.41b0->chromadb) (0.43b0)\n",
      "Requirement already satisfied: opentelemetry-instrumentation==0.43b0 in /Users/abdi/miniconda3/envs/legal_contract_advisor/lib/python3.10/site-packages (from opentelemetry-instrumentation-fastapi>=0.41b0->chromadb) (0.43b0)\n",
      "Requirement already satisfied: opentelemetry-semantic-conventions==0.43b0 in /Users/abdi/miniconda3/envs/legal_contract_advisor/lib/python3.10/site-packages (from opentelemetry-instrumentation-fastapi>=0.41b0->chromadb) (0.43b0)\n",
      "Requirement already satisfied: opentelemetry-util-http==0.43b0 in /Users/abdi/miniconda3/envs/legal_contract_advisor/lib/python3.10/site-packages (from opentelemetry-instrumentation-fastapi>=0.41b0->chromadb) (0.43b0)\n",
      "Requirement already satisfied: setuptools>=16.0 in /Users/abdi/miniconda3/envs/legal_contract_advisor/lib/python3.10/site-packages (from opentelemetry-instrumentation==0.43b0->opentelemetry-instrumentation-fastapi>=0.41b0->chromadb) (68.2.2)\n",
      "Requirement already satisfied: wrapt<2.0.0,>=1.0.0 in /Users/abdi/miniconda3/envs/legal_contract_advisor/lib/python3.10/site-packages (from opentelemetry-instrumentation==0.43b0->opentelemetry-instrumentation-fastapi>=0.41b0->chromadb) (1.16.0)\n",
      "Requirement already satisfied: asgiref~=3.0 in /Users/abdi/miniconda3/envs/legal_contract_advisor/lib/python3.10/site-packages (from opentelemetry-instrumentation-asgi==0.43b0->opentelemetry-instrumentation-fastapi>=0.41b0->chromadb) (3.7.2)\n",
      "Requirement already satisfied: monotonic>=1.5 in /Users/abdi/miniconda3/envs/legal_contract_advisor/lib/python3.10/site-packages (from posthog>=2.4.0->chromadb) (1.6)\n",
      "Requirement already satisfied: annotated-types>=0.4.0 in /Users/abdi/miniconda3/envs/legal_contract_advisor/lib/python3.10/site-packages (from pydantic>=1.9->chromadb) (0.6.0)\n",
      "Requirement already satisfied: pydantic-core==2.16.2 in /Users/abdi/miniconda3/envs/legal_contract_advisor/lib/python3.10/site-packages (from pydantic>=1.9->chromadb) (2.16.2)\n",
      "Requirement already satisfied: charset-normalizer<4,>=2 in /Users/abdi/miniconda3/envs/legal_contract_advisor/lib/python3.10/site-packages (from requests>=2.28->chromadb) (3.3.2)\n",
      "Requirement already satisfied: idna<4,>=2.5 in /Users/abdi/miniconda3/envs/legal_contract_advisor/lib/python3.10/site-packages (from requests>=2.28->chromadb) (3.6)\n",
      "Requirement already satisfied: huggingface_hub<1.0,>=0.16.4 in /Users/abdi/miniconda3/envs/legal_contract_advisor/lib/python3.10/site-packages (from tokenizers>=0.13.2->chromadb) (0.20.3)\n",
      "Requirement already satisfied: click<9.0.0,>=7.1.1 in /Users/abdi/miniconda3/envs/legal_contract_advisor/lib/python3.10/site-packages (from typer>=0.9.0->chromadb) (8.1.7)\n",
      "Requirement already satisfied: h11>=0.8 in /Users/abdi/miniconda3/envs/legal_contract_advisor/lib/python3.10/site-packages (from uvicorn>=0.18.3->uvicorn[standard]>=0.18.3->chromadb) (0.14.0)\n",
      "Requirement already satisfied: httptools>=0.5.0 in /Users/abdi/miniconda3/envs/legal_contract_advisor/lib/python3.10/site-packages (from uvicorn[standard]>=0.18.3->chromadb) (0.6.1)\n",
      "Requirement already satisfied: python-dotenv>=0.13 in /Users/abdi/miniconda3/envs/legal_contract_advisor/lib/python3.10/site-packages (from uvicorn[standard]>=0.18.3->chromadb) (1.0.1)\n",
      "Requirement already satisfied: uvloop!=0.15.0,!=0.15.1,>=0.14.0 in /Users/abdi/miniconda3/envs/legal_contract_advisor/lib/python3.10/site-packages (from uvicorn[standard]>=0.18.3->chromadb) (0.19.0)\n",
      "Requirement already satisfied: watchfiles>=0.13 in /Users/abdi/miniconda3/envs/legal_contract_advisor/lib/python3.10/site-packages (from uvicorn[standard]>=0.18.3->chromadb) (0.21.0)\n",
      "Requirement already satisfied: websockets>=10.4 in /Users/abdi/miniconda3/envs/legal_contract_advisor/lib/python3.10/site-packages (from uvicorn[standard]>=0.18.3->chromadb) (12.0)\n",
      "Requirement already satisfied: cachetools<6.0,>=2.0.0 in /Users/abdi/miniconda3/envs/legal_contract_advisor/lib/python3.10/site-packages (from google-auth>=1.0.1->kubernetes>=28.1.0->chromadb) (5.3.2)\n",
      "Requirement already satisfied: pyasn1-modules>=0.2.1 in /Users/abdi/miniconda3/envs/legal_contract_advisor/lib/python3.10/site-packages (from google-auth>=1.0.1->kubernetes>=28.1.0->chromadb) (0.3.0)\n",
      "Requirement already satisfied: rsa<5,>=3.1.4 in /Users/abdi/miniconda3/envs/legal_contract_advisor/lib/python3.10/site-packages (from google-auth>=1.0.1->kubernetes>=28.1.0->chromadb) (4.9)\n",
      "Requirement already satisfied: filelock in /Users/abdi/miniconda3/envs/legal_contract_advisor/lib/python3.10/site-packages (from huggingface_hub<1.0,>=0.16.4->tokenizers>=0.13.2->chromadb) (3.13.1)\n",
      "Requirement already satisfied: fsspec>=2023.5.0 in /Users/abdi/miniconda3/envs/legal_contract_advisor/lib/python3.10/site-packages (from huggingface_hub<1.0,>=0.16.4->tokenizers>=0.13.2->chromadb) (2024.2.0)\n",
      "Requirement already satisfied: zipp>=0.5 in /Users/abdi/miniconda3/envs/legal_contract_advisor/lib/python3.10/site-packages (from importlib-metadata<7.0,>=6.0->opentelemetry-api>=1.2.0->chromadb) (3.17.0)\n",
      "Requirement already satisfied: anyio<5,>=3.4.0 in /Users/abdi/miniconda3/envs/legal_contract_advisor/lib/python3.10/site-packages (from starlette<0.37.0,>=0.36.3->fastapi>=0.95.2->chromadb) (4.3.0)\n",
      "Requirement already satisfied: humanfriendly>=9.1 in /Users/abdi/miniconda3/envs/legal_contract_advisor/lib/python3.10/site-packages (from coloredlogs->onnxruntime>=1.14.1->chromadb) (10.0)\n",
      "Requirement already satisfied: mpmath>=0.19 in /Users/abdi/miniconda3/envs/legal_contract_advisor/lib/python3.10/site-packages (from sympy->onnxruntime>=1.14.1->chromadb) (1.3.0)\n",
      "Requirement already satisfied: sniffio>=1.1 in /Users/abdi/miniconda3/envs/legal_contract_advisor/lib/python3.10/site-packages (from anyio<5,>=3.4.0->starlette<0.37.0,>=0.36.3->fastapi>=0.95.2->chromadb) (1.3.0)\n",
      "Requirement already satisfied: exceptiongroup>=1.0.2 in /Users/abdi/miniconda3/envs/legal_contract_advisor/lib/python3.10/site-packages (from anyio<5,>=3.4.0->starlette<0.37.0,>=0.36.3->fastapi>=0.95.2->chromadb) (1.2.0)\n",
      "Requirement already satisfied: pyasn1<0.6.0,>=0.4.6 in /Users/abdi/miniconda3/envs/legal_contract_advisor/lib/python3.10/site-packages (from pyasn1-modules>=0.2.1->google-auth>=1.0.1->kubernetes>=28.1.0->chromadb) (0.5.1)\n",
      "Note: you may need to restart the kernel to use updated packages.\n",
      "Requirement already satisfied: streamlit in /Users/abdi/miniconda3/envs/legal_contract_advisor/lib/python3.10/site-packages (1.31.1)\n",
      "Requirement already satisfied: altair<6,>=4.0 in /Users/abdi/miniconda3/envs/legal_contract_advisor/lib/python3.10/site-packages (from streamlit) (5.2.0)\n",
      "Requirement already satisfied: blinker<2,>=1.0.0 in /Users/abdi/miniconda3/envs/legal_contract_advisor/lib/python3.10/site-packages (from streamlit) (1.7.0)\n",
      "Requirement already satisfied: cachetools<6,>=4.0 in /Users/abdi/miniconda3/envs/legal_contract_advisor/lib/python3.10/site-packages (from streamlit) (5.3.2)\n",
      "Requirement already satisfied: click<9,>=7.0 in /Users/abdi/miniconda3/envs/legal_contract_advisor/lib/python3.10/site-packages (from streamlit) (8.1.7)\n",
      "Requirement already satisfied: importlib-metadata<8,>=1.4 in /Users/abdi/miniconda3/envs/legal_contract_advisor/lib/python3.10/site-packages (from streamlit) (6.11.0)\n",
      "Requirement already satisfied: numpy<2,>=1.19.3 in /Users/abdi/miniconda3/envs/legal_contract_advisor/lib/python3.10/site-packages (from streamlit) (1.26.4)\n",
      "Requirement already satisfied: packaging<24,>=16.8 in /Users/abdi/miniconda3/envs/legal_contract_advisor/lib/python3.10/site-packages (from streamlit) (23.2)\n",
      "Requirement already satisfied: pandas<3,>=1.3.0 in /Users/abdi/miniconda3/envs/legal_contract_advisor/lib/python3.10/site-packages (from streamlit) (2.2.0)\n",
      "Requirement already satisfied: pillow<11,>=7.1.0 in /Users/abdi/miniconda3/envs/legal_contract_advisor/lib/python3.10/site-packages (from streamlit) (10.2.0)\n",
      "Requirement already satisfied: protobuf<5,>=3.20 in /Users/abdi/miniconda3/envs/legal_contract_advisor/lib/python3.10/site-packages (from streamlit) (4.25.3)\n",
      "Requirement already satisfied: pyarrow>=7.0 in /Users/abdi/miniconda3/envs/legal_contract_advisor/lib/python3.10/site-packages (from streamlit) (15.0.0)\n",
      "Requirement already satisfied: python-dateutil<3,>=2.7.3 in /Users/abdi/miniconda3/envs/legal_contract_advisor/lib/python3.10/site-packages (from streamlit) (2.8.2)\n",
      "Requirement already satisfied: requests<3,>=2.27 in /Users/abdi/miniconda3/envs/legal_contract_advisor/lib/python3.10/site-packages (from streamlit) (2.31.0)\n",
      "Requirement already satisfied: rich<14,>=10.14.0 in /Users/abdi/miniconda3/envs/legal_contract_advisor/lib/python3.10/site-packages (from streamlit) (13.7.0)\n",
      "Requirement already satisfied: tenacity<9,>=8.1.0 in /Users/abdi/miniconda3/envs/legal_contract_advisor/lib/python3.10/site-packages (from streamlit) (8.2.3)\n",
      "Requirement already satisfied: toml<2,>=0.10.1 in /Users/abdi/miniconda3/envs/legal_contract_advisor/lib/python3.10/site-packages (from streamlit) (0.10.2)\n",
      "Requirement already satisfied: typing-extensions<5,>=4.3.0 in /Users/abdi/miniconda3/envs/legal_contract_advisor/lib/python3.10/site-packages (from streamlit) (4.9.0)\n",
      "Requirement already satisfied: tzlocal<6,>=1.1 in /Users/abdi/miniconda3/envs/legal_contract_advisor/lib/python3.10/site-packages (from streamlit) (5.2)\n",
      "Requirement already satisfied: validators<1,>=0.2 in /Users/abdi/miniconda3/envs/legal_contract_advisor/lib/python3.10/site-packages (from streamlit) (0.22.0)\n",
      "Requirement already satisfied: gitpython!=3.1.19,<4,>=3.0.7 in /Users/abdi/miniconda3/envs/legal_contract_advisor/lib/python3.10/site-packages (from streamlit) (3.1.42)\n",
      "Requirement already satisfied: pydeck<1,>=0.8.0b4 in /Users/abdi/miniconda3/envs/legal_contract_advisor/lib/python3.10/site-packages (from streamlit) (0.8.1b0)\n",
      "Requirement already satisfied: tornado<7,>=6.0.3 in /Users/abdi/miniconda3/envs/legal_contract_advisor/lib/python3.10/site-packages (from streamlit) (6.3.3)\n",
      "Requirement already satisfied: jinja2 in /Users/abdi/miniconda3/envs/legal_contract_advisor/lib/python3.10/site-packages (from altair<6,>=4.0->streamlit) (3.1.3)\n",
      "Requirement already satisfied: jsonschema>=3.0 in /Users/abdi/miniconda3/envs/legal_contract_advisor/lib/python3.10/site-packages (from altair<6,>=4.0->streamlit) (4.21.1)\n",
      "Requirement already satisfied: toolz in /Users/abdi/miniconda3/envs/legal_contract_advisor/lib/python3.10/site-packages (from altair<6,>=4.0->streamlit) (0.12.1)\n",
      "Requirement already satisfied: gitdb<5,>=4.0.1 in /Users/abdi/miniconda3/envs/legal_contract_advisor/lib/python3.10/site-packages (from gitpython!=3.1.19,<4,>=3.0.7->streamlit) (4.0.11)\n",
      "Requirement already satisfied: zipp>=0.5 in /Users/abdi/miniconda3/envs/legal_contract_advisor/lib/python3.10/site-packages (from importlib-metadata<8,>=1.4->streamlit) (3.17.0)\n",
      "Requirement already satisfied: pytz>=2020.1 in /Users/abdi/miniconda3/envs/legal_contract_advisor/lib/python3.10/site-packages (from pandas<3,>=1.3.0->streamlit) (2024.1)\n",
      "Requirement already satisfied: tzdata>=2022.7 in /Users/abdi/miniconda3/envs/legal_contract_advisor/lib/python3.10/site-packages (from pandas<3,>=1.3.0->streamlit) (2024.1)\n",
      "Requirement already satisfied: six>=1.5 in /Users/abdi/miniconda3/envs/legal_contract_advisor/lib/python3.10/site-packages (from python-dateutil<3,>=2.7.3->streamlit) (1.16.0)\n",
      "Requirement already satisfied: charset-normalizer<4,>=2 in /Users/abdi/miniconda3/envs/legal_contract_advisor/lib/python3.10/site-packages (from requests<3,>=2.27->streamlit) (3.3.2)\n",
      "Requirement already satisfied: idna<4,>=2.5 in /Users/abdi/miniconda3/envs/legal_contract_advisor/lib/python3.10/site-packages (from requests<3,>=2.27->streamlit) (3.6)\n",
      "Requirement already satisfied: urllib3<3,>=1.21.1 in /Users/abdi/miniconda3/envs/legal_contract_advisor/lib/python3.10/site-packages (from requests<3,>=2.27->streamlit) (2.2.1)\n",
      "Requirement already satisfied: certifi>=2017.4.17 in /Users/abdi/miniconda3/envs/legal_contract_advisor/lib/python3.10/site-packages (from requests<3,>=2.27->streamlit) (2024.2.2)\n",
      "Requirement already satisfied: markdown-it-py>=2.2.0 in /Users/abdi/miniconda3/envs/legal_contract_advisor/lib/python3.10/site-packages (from rich<14,>=10.14.0->streamlit) (3.0.0)\n",
      "Requirement already satisfied: pygments<3.0.0,>=2.13.0 in /Users/abdi/miniconda3/envs/legal_contract_advisor/lib/python3.10/site-packages (from rich<14,>=10.14.0->streamlit) (2.17.2)\n",
      "Requirement already satisfied: smmap<6,>=3.0.1 in /Users/abdi/miniconda3/envs/legal_contract_advisor/lib/python3.10/site-packages (from gitdb<5,>=4.0.1->gitpython!=3.1.19,<4,>=3.0.7->streamlit) (5.0.1)\n",
      "Requirement already satisfied: MarkupSafe>=2.0 in /Users/abdi/miniconda3/envs/legal_contract_advisor/lib/python3.10/site-packages (from jinja2->altair<6,>=4.0->streamlit) (2.1.5)\n",
      "Requirement already satisfied: attrs>=22.2.0 in /Users/abdi/miniconda3/envs/legal_contract_advisor/lib/python3.10/site-packages (from jsonschema>=3.0->altair<6,>=4.0->streamlit) (23.2.0)\n",
      "Requirement already satisfied: jsonschema-specifications>=2023.03.6 in /Users/abdi/miniconda3/envs/legal_contract_advisor/lib/python3.10/site-packages (from jsonschema>=3.0->altair<6,>=4.0->streamlit) (2023.12.1)\n",
      "Requirement already satisfied: referencing>=0.28.4 in /Users/abdi/miniconda3/envs/legal_contract_advisor/lib/python3.10/site-packages (from jsonschema>=3.0->altair<6,>=4.0->streamlit) (0.33.0)\n",
      "Requirement already satisfied: rpds-py>=0.7.1 in /Users/abdi/miniconda3/envs/legal_contract_advisor/lib/python3.10/site-packages (from jsonschema>=3.0->altair<6,>=4.0->streamlit) (0.18.0)\n",
      "Requirement already satisfied: mdurl~=0.1 in /Users/abdi/miniconda3/envs/legal_contract_advisor/lib/python3.10/site-packages (from markdown-it-py>=2.2.0->rich<14,>=10.14.0->streamlit) (0.1.2)\n",
      "Note: you may need to restart the kernel to use updated packages.\n"
     ]
    }
   ],
   "source": [
    "%pip install langchain\n",
    "%pip install langchain-openai\n",
    "%pip install python-dotenv\n",
    "%pip install pypdf\n",
    "%pip install PyPDF2\n",
    "%pip install chromadb\n",
    "%pip install streamlit"
   ]
  },
  {
   "cell_type": "code",
   "execution_count": 1,
   "metadata": {},
   "outputs": [],
   "source": [
    "%reload_ext autoreload\n",
    "%autoreload 2"
   ]
  },
  {
   "cell_type": "code",
   "execution_count": 54,
   "metadata": {},
   "outputs": [
    {
     "data": {
      "text/plain": [
       "True"
      ]
     },
     "execution_count": 54,
     "metadata": {},
     "output_type": "execute_result"
    }
   ],
   "source": [
    "from dotenv import load_dotenv\n",
    "load_dotenv()  # take environment variables from .env."
   ]
  },
  {
   "cell_type": "code",
   "execution_count": 55,
   "metadata": {},
   "outputs": [],
   "source": [
    "from langchain_openai import ChatOpenAI\n",
    "\n",
    "llm = ChatOpenAI()"
   ]
  },
  {
   "cell_type": "code",
   "execution_count": 56,
   "metadata": {},
   "outputs": [
    {
     "ename": "AuthenticationError",
     "evalue": "Error code: 401 - {'error': {'message': 'Incorrect API key provided: sk-RtkFm***************************************oyCA. You can find your API key at https://platform.openai.com/account/api-keys.', 'type': 'invalid_request_error', 'param': None, 'code': 'invalid_api_key'}}",
     "output_type": "error",
     "traceback": [
      "\u001b[0;31m---------------------------------------------------------------------------\u001b[0m",
      "\u001b[0;31mAuthenticationError\u001b[0m                       Traceback (most recent call last)",
      "Cell \u001b[0;32mIn[56], line 1\u001b[0m\n\u001b[0;32m----> 1\u001b[0m \u001b[43mllm\u001b[49m\u001b[38;5;241;43m.\u001b[39;49m\u001b[43minvoke\u001b[49m\u001b[43m(\u001b[49m\u001b[38;5;124;43m\"\u001b[39;49m\u001b[38;5;124;43mWhat is a legally binding contract and its termination period?\u001b[39;49m\u001b[38;5;124;43m\"\u001b[39;49m\u001b[43m)\u001b[49m\n",
      "File \u001b[0;32m~/miniconda3/envs/legal_contract_advisor/lib/python3.10/site-packages/langchain_core/language_models/chat_models.py:166\u001b[0m, in \u001b[0;36mBaseChatModel.invoke\u001b[0;34m(self, input, config, stop, **kwargs)\u001b[0m\n\u001b[1;32m    155\u001b[0m \u001b[38;5;28;01mdef\u001b[39;00m \u001b[38;5;21minvoke\u001b[39m(\n\u001b[1;32m    156\u001b[0m     \u001b[38;5;28mself\u001b[39m,\n\u001b[1;32m    157\u001b[0m     \u001b[38;5;28minput\u001b[39m: LanguageModelInput,\n\u001b[0;32m   (...)\u001b[0m\n\u001b[1;32m    161\u001b[0m     \u001b[38;5;241m*\u001b[39m\u001b[38;5;241m*\u001b[39mkwargs: Any,\n\u001b[1;32m    162\u001b[0m ) \u001b[38;5;241m-\u001b[39m\u001b[38;5;241m>\u001b[39m BaseMessage:\n\u001b[1;32m    163\u001b[0m     config \u001b[38;5;241m=\u001b[39m ensure_config(config)\n\u001b[1;32m    164\u001b[0m     \u001b[38;5;28;01mreturn\u001b[39;00m cast(\n\u001b[1;32m    165\u001b[0m         ChatGeneration,\n\u001b[0;32m--> 166\u001b[0m         \u001b[38;5;28;43mself\u001b[39;49m\u001b[38;5;241;43m.\u001b[39;49m\u001b[43mgenerate_prompt\u001b[49m\u001b[43m(\u001b[49m\n\u001b[1;32m    167\u001b[0m \u001b[43m            \u001b[49m\u001b[43m[\u001b[49m\u001b[38;5;28;43mself\u001b[39;49m\u001b[38;5;241;43m.\u001b[39;49m\u001b[43m_convert_input\u001b[49m\u001b[43m(\u001b[49m\u001b[38;5;28;43minput\u001b[39;49m\u001b[43m)\u001b[49m\u001b[43m]\u001b[49m\u001b[43m,\u001b[49m\n\u001b[1;32m    168\u001b[0m \u001b[43m            \u001b[49m\u001b[43mstop\u001b[49m\u001b[38;5;241;43m=\u001b[39;49m\u001b[43mstop\u001b[49m\u001b[43m,\u001b[49m\n\u001b[1;32m    169\u001b[0m \u001b[43m            \u001b[49m\u001b[43mcallbacks\u001b[49m\u001b[38;5;241;43m=\u001b[39;49m\u001b[43mconfig\u001b[49m\u001b[38;5;241;43m.\u001b[39;49m\u001b[43mget\u001b[49m\u001b[43m(\u001b[49m\u001b[38;5;124;43m\"\u001b[39;49m\u001b[38;5;124;43mcallbacks\u001b[39;49m\u001b[38;5;124;43m\"\u001b[39;49m\u001b[43m)\u001b[49m\u001b[43m,\u001b[49m\n\u001b[1;32m    170\u001b[0m \u001b[43m            \u001b[49m\u001b[43mtags\u001b[49m\u001b[38;5;241;43m=\u001b[39;49m\u001b[43mconfig\u001b[49m\u001b[38;5;241;43m.\u001b[39;49m\u001b[43mget\u001b[49m\u001b[43m(\u001b[49m\u001b[38;5;124;43m\"\u001b[39;49m\u001b[38;5;124;43mtags\u001b[39;49m\u001b[38;5;124;43m\"\u001b[39;49m\u001b[43m)\u001b[49m\u001b[43m,\u001b[49m\n\u001b[1;32m    171\u001b[0m \u001b[43m            \u001b[49m\u001b[43mmetadata\u001b[49m\u001b[38;5;241;43m=\u001b[39;49m\u001b[43mconfig\u001b[49m\u001b[38;5;241;43m.\u001b[39;49m\u001b[43mget\u001b[49m\u001b[43m(\u001b[49m\u001b[38;5;124;43m\"\u001b[39;49m\u001b[38;5;124;43mmetadata\u001b[39;49m\u001b[38;5;124;43m\"\u001b[39;49m\u001b[43m)\u001b[49m\u001b[43m,\u001b[49m\n\u001b[1;32m    172\u001b[0m \u001b[43m            \u001b[49m\u001b[43mrun_name\u001b[49m\u001b[38;5;241;43m=\u001b[39;49m\u001b[43mconfig\u001b[49m\u001b[38;5;241;43m.\u001b[39;49m\u001b[43mget\u001b[49m\u001b[43m(\u001b[49m\u001b[38;5;124;43m\"\u001b[39;49m\u001b[38;5;124;43mrun_name\u001b[39;49m\u001b[38;5;124;43m\"\u001b[39;49m\u001b[43m)\u001b[49m\u001b[43m,\u001b[49m\n\u001b[1;32m    173\u001b[0m \u001b[43m            \u001b[49m\u001b[38;5;241;43m*\u001b[39;49m\u001b[38;5;241;43m*\u001b[39;49m\u001b[43mkwargs\u001b[49m\u001b[43m,\u001b[49m\n\u001b[1;32m    174\u001b[0m \u001b[43m        \u001b[49m\u001b[43m)\u001b[49m\u001b[38;5;241m.\u001b[39mgenerations[\u001b[38;5;241m0\u001b[39m][\u001b[38;5;241m0\u001b[39m],\n\u001b[1;32m    175\u001b[0m     )\u001b[38;5;241m.\u001b[39mmessage\n",
      "File \u001b[0;32m~/miniconda3/envs/legal_contract_advisor/lib/python3.10/site-packages/langchain_core/language_models/chat_models.py:544\u001b[0m, in \u001b[0;36mBaseChatModel.generate_prompt\u001b[0;34m(self, prompts, stop, callbacks, **kwargs)\u001b[0m\n\u001b[1;32m    536\u001b[0m \u001b[38;5;28;01mdef\u001b[39;00m \u001b[38;5;21mgenerate_prompt\u001b[39m(\n\u001b[1;32m    537\u001b[0m     \u001b[38;5;28mself\u001b[39m,\n\u001b[1;32m    538\u001b[0m     prompts: List[PromptValue],\n\u001b[0;32m   (...)\u001b[0m\n\u001b[1;32m    541\u001b[0m     \u001b[38;5;241m*\u001b[39m\u001b[38;5;241m*\u001b[39mkwargs: Any,\n\u001b[1;32m    542\u001b[0m ) \u001b[38;5;241m-\u001b[39m\u001b[38;5;241m>\u001b[39m LLMResult:\n\u001b[1;32m    543\u001b[0m     prompt_messages \u001b[38;5;241m=\u001b[39m [p\u001b[38;5;241m.\u001b[39mto_messages() \u001b[38;5;28;01mfor\u001b[39;00m p \u001b[38;5;129;01min\u001b[39;00m prompts]\n\u001b[0;32m--> 544\u001b[0m     \u001b[38;5;28;01mreturn\u001b[39;00m \u001b[38;5;28;43mself\u001b[39;49m\u001b[38;5;241;43m.\u001b[39;49m\u001b[43mgenerate\u001b[49m\u001b[43m(\u001b[49m\u001b[43mprompt_messages\u001b[49m\u001b[43m,\u001b[49m\u001b[43m \u001b[49m\u001b[43mstop\u001b[49m\u001b[38;5;241;43m=\u001b[39;49m\u001b[43mstop\u001b[49m\u001b[43m,\u001b[49m\u001b[43m \u001b[49m\u001b[43mcallbacks\u001b[49m\u001b[38;5;241;43m=\u001b[39;49m\u001b[43mcallbacks\u001b[49m\u001b[43m,\u001b[49m\u001b[43m \u001b[49m\u001b[38;5;241;43m*\u001b[39;49m\u001b[38;5;241;43m*\u001b[39;49m\u001b[43mkwargs\u001b[49m\u001b[43m)\u001b[49m\n",
      "File \u001b[0;32m~/miniconda3/envs/legal_contract_advisor/lib/python3.10/site-packages/langchain_core/language_models/chat_models.py:408\u001b[0m, in \u001b[0;36mBaseChatModel.generate\u001b[0;34m(self, messages, stop, callbacks, tags, metadata, run_name, **kwargs)\u001b[0m\n\u001b[1;32m    406\u001b[0m         \u001b[38;5;28;01mif\u001b[39;00m run_managers:\n\u001b[1;32m    407\u001b[0m             run_managers[i]\u001b[38;5;241m.\u001b[39mon_llm_error(e, response\u001b[38;5;241m=\u001b[39mLLMResult(generations\u001b[38;5;241m=\u001b[39m[]))\n\u001b[0;32m--> 408\u001b[0m         \u001b[38;5;28;01mraise\u001b[39;00m e\n\u001b[1;32m    409\u001b[0m flattened_outputs \u001b[38;5;241m=\u001b[39m [\n\u001b[1;32m    410\u001b[0m     LLMResult(generations\u001b[38;5;241m=\u001b[39m[res\u001b[38;5;241m.\u001b[39mgenerations], llm_output\u001b[38;5;241m=\u001b[39mres\u001b[38;5;241m.\u001b[39mllm_output)\n\u001b[1;32m    411\u001b[0m     \u001b[38;5;28;01mfor\u001b[39;00m res \u001b[38;5;129;01min\u001b[39;00m results\n\u001b[1;32m    412\u001b[0m ]\n\u001b[1;32m    413\u001b[0m llm_output \u001b[38;5;241m=\u001b[39m \u001b[38;5;28mself\u001b[39m\u001b[38;5;241m.\u001b[39m_combine_llm_outputs([res\u001b[38;5;241m.\u001b[39mllm_output \u001b[38;5;28;01mfor\u001b[39;00m res \u001b[38;5;129;01min\u001b[39;00m results])\n",
      "File \u001b[0;32m~/miniconda3/envs/legal_contract_advisor/lib/python3.10/site-packages/langchain_core/language_models/chat_models.py:398\u001b[0m, in \u001b[0;36mBaseChatModel.generate\u001b[0;34m(self, messages, stop, callbacks, tags, metadata, run_name, **kwargs)\u001b[0m\n\u001b[1;32m    395\u001b[0m \u001b[38;5;28;01mfor\u001b[39;00m i, m \u001b[38;5;129;01min\u001b[39;00m \u001b[38;5;28menumerate\u001b[39m(messages):\n\u001b[1;32m    396\u001b[0m     \u001b[38;5;28;01mtry\u001b[39;00m:\n\u001b[1;32m    397\u001b[0m         results\u001b[38;5;241m.\u001b[39mappend(\n\u001b[0;32m--> 398\u001b[0m             \u001b[38;5;28;43mself\u001b[39;49m\u001b[38;5;241;43m.\u001b[39;49m\u001b[43m_generate_with_cache\u001b[49m\u001b[43m(\u001b[49m\n\u001b[1;32m    399\u001b[0m \u001b[43m                \u001b[49m\u001b[43mm\u001b[49m\u001b[43m,\u001b[49m\n\u001b[1;32m    400\u001b[0m \u001b[43m                \u001b[49m\u001b[43mstop\u001b[49m\u001b[38;5;241;43m=\u001b[39;49m\u001b[43mstop\u001b[49m\u001b[43m,\u001b[49m\n\u001b[1;32m    401\u001b[0m \u001b[43m                \u001b[49m\u001b[43mrun_manager\u001b[49m\u001b[38;5;241;43m=\u001b[39;49m\u001b[43mrun_managers\u001b[49m\u001b[43m[\u001b[49m\u001b[43mi\u001b[49m\u001b[43m]\u001b[49m\u001b[43m \u001b[49m\u001b[38;5;28;43;01mif\u001b[39;49;00m\u001b[43m \u001b[49m\u001b[43mrun_managers\u001b[49m\u001b[43m \u001b[49m\u001b[38;5;28;43;01melse\u001b[39;49;00m\u001b[43m \u001b[49m\u001b[38;5;28;43;01mNone\u001b[39;49;00m\u001b[43m,\u001b[49m\n\u001b[1;32m    402\u001b[0m \u001b[43m                \u001b[49m\u001b[38;5;241;43m*\u001b[39;49m\u001b[38;5;241;43m*\u001b[39;49m\u001b[43mkwargs\u001b[49m\u001b[43m,\u001b[49m\n\u001b[1;32m    403\u001b[0m \u001b[43m            \u001b[49m\u001b[43m)\u001b[49m\n\u001b[1;32m    404\u001b[0m         )\n\u001b[1;32m    405\u001b[0m     \u001b[38;5;28;01mexcept\u001b[39;00m \u001b[38;5;167;01mBaseException\u001b[39;00m \u001b[38;5;28;01mas\u001b[39;00m e:\n\u001b[1;32m    406\u001b[0m         \u001b[38;5;28;01mif\u001b[39;00m run_managers:\n",
      "File \u001b[0;32m~/miniconda3/envs/legal_contract_advisor/lib/python3.10/site-packages/langchain_core/language_models/chat_models.py:577\u001b[0m, in \u001b[0;36mBaseChatModel._generate_with_cache\u001b[0;34m(self, messages, stop, run_manager, **kwargs)\u001b[0m\n\u001b[1;32m    573\u001b[0m     \u001b[38;5;28;01mraise\u001b[39;00m \u001b[38;5;167;01mValueError\u001b[39;00m(\n\u001b[1;32m    574\u001b[0m         \u001b[38;5;124m\"\u001b[39m\u001b[38;5;124mAsked to cache, but no cache found at `langchain.cache`.\u001b[39m\u001b[38;5;124m\"\u001b[39m\n\u001b[1;32m    575\u001b[0m     )\n\u001b[1;32m    576\u001b[0m \u001b[38;5;28;01mif\u001b[39;00m new_arg_supported:\n\u001b[0;32m--> 577\u001b[0m     \u001b[38;5;28;01mreturn\u001b[39;00m \u001b[38;5;28;43mself\u001b[39;49m\u001b[38;5;241;43m.\u001b[39;49m\u001b[43m_generate\u001b[49m\u001b[43m(\u001b[49m\n\u001b[1;32m    578\u001b[0m \u001b[43m        \u001b[49m\u001b[43mmessages\u001b[49m\u001b[43m,\u001b[49m\u001b[43m \u001b[49m\u001b[43mstop\u001b[49m\u001b[38;5;241;43m=\u001b[39;49m\u001b[43mstop\u001b[49m\u001b[43m,\u001b[49m\u001b[43m \u001b[49m\u001b[43mrun_manager\u001b[49m\u001b[38;5;241;43m=\u001b[39;49m\u001b[43mrun_manager\u001b[49m\u001b[43m,\u001b[49m\u001b[43m \u001b[49m\u001b[38;5;241;43m*\u001b[39;49m\u001b[38;5;241;43m*\u001b[39;49m\u001b[43mkwargs\u001b[49m\n\u001b[1;32m    579\u001b[0m \u001b[43m    \u001b[49m\u001b[43m)\u001b[49m\n\u001b[1;32m    580\u001b[0m \u001b[38;5;28;01melse\u001b[39;00m:\n\u001b[1;32m    581\u001b[0m     \u001b[38;5;28;01mreturn\u001b[39;00m \u001b[38;5;28mself\u001b[39m\u001b[38;5;241m.\u001b[39m_generate(messages, stop\u001b[38;5;241m=\u001b[39mstop, \u001b[38;5;241m*\u001b[39m\u001b[38;5;241m*\u001b[39mkwargs)\n",
      "File \u001b[0;32m~/miniconda3/envs/legal_contract_advisor/lib/python3.10/site-packages/langchain_openai/chat_models/base.py:438\u001b[0m, in \u001b[0;36mChatOpenAI._generate\u001b[0;34m(self, messages, stop, run_manager, stream, **kwargs)\u001b[0m\n\u001b[1;32m    432\u001b[0m message_dicts, params \u001b[38;5;241m=\u001b[39m \u001b[38;5;28mself\u001b[39m\u001b[38;5;241m.\u001b[39m_create_message_dicts(messages, stop)\n\u001b[1;32m    433\u001b[0m params \u001b[38;5;241m=\u001b[39m {\n\u001b[1;32m    434\u001b[0m     \u001b[38;5;241m*\u001b[39m\u001b[38;5;241m*\u001b[39mparams,\n\u001b[1;32m    435\u001b[0m     \u001b[38;5;241m*\u001b[39m\u001b[38;5;241m*\u001b[39m({\u001b[38;5;124m\"\u001b[39m\u001b[38;5;124mstream\u001b[39m\u001b[38;5;124m\"\u001b[39m: stream} \u001b[38;5;28;01mif\u001b[39;00m stream \u001b[38;5;129;01mis\u001b[39;00m \u001b[38;5;129;01mnot\u001b[39;00m \u001b[38;5;28;01mNone\u001b[39;00m \u001b[38;5;28;01melse\u001b[39;00m {}),\n\u001b[1;32m    436\u001b[0m     \u001b[38;5;241m*\u001b[39m\u001b[38;5;241m*\u001b[39mkwargs,\n\u001b[1;32m    437\u001b[0m }\n\u001b[0;32m--> 438\u001b[0m response \u001b[38;5;241m=\u001b[39m \u001b[38;5;28;43mself\u001b[39;49m\u001b[38;5;241;43m.\u001b[39;49m\u001b[43mclient\u001b[49m\u001b[38;5;241;43m.\u001b[39;49m\u001b[43mcreate\u001b[49m\u001b[43m(\u001b[49m\u001b[43mmessages\u001b[49m\u001b[38;5;241;43m=\u001b[39;49m\u001b[43mmessage_dicts\u001b[49m\u001b[43m,\u001b[49m\u001b[43m \u001b[49m\u001b[38;5;241;43m*\u001b[39;49m\u001b[38;5;241;43m*\u001b[39;49m\u001b[43mparams\u001b[49m\u001b[43m)\u001b[49m\n\u001b[1;32m    439\u001b[0m \u001b[38;5;28;01mreturn\u001b[39;00m \u001b[38;5;28mself\u001b[39m\u001b[38;5;241m.\u001b[39m_create_chat_result(response)\n",
      "File \u001b[0;32m~/miniconda3/envs/legal_contract_advisor/lib/python3.10/site-packages/openai/_utils/_utils.py:275\u001b[0m, in \u001b[0;36mrequired_args.<locals>.inner.<locals>.wrapper\u001b[0;34m(*args, **kwargs)\u001b[0m\n\u001b[1;32m    273\u001b[0m             msg \u001b[38;5;241m=\u001b[39m \u001b[38;5;124mf\u001b[39m\u001b[38;5;124m\"\u001b[39m\u001b[38;5;124mMissing required argument: \u001b[39m\u001b[38;5;132;01m{\u001b[39;00mquote(missing[\u001b[38;5;241m0\u001b[39m])\u001b[38;5;132;01m}\u001b[39;00m\u001b[38;5;124m\"\u001b[39m\n\u001b[1;32m    274\u001b[0m     \u001b[38;5;28;01mraise\u001b[39;00m \u001b[38;5;167;01mTypeError\u001b[39;00m(msg)\n\u001b[0;32m--> 275\u001b[0m \u001b[38;5;28;01mreturn\u001b[39;00m \u001b[43mfunc\u001b[49m\u001b[43m(\u001b[49m\u001b[38;5;241;43m*\u001b[39;49m\u001b[43margs\u001b[49m\u001b[43m,\u001b[49m\u001b[43m \u001b[49m\u001b[38;5;241;43m*\u001b[39;49m\u001b[38;5;241;43m*\u001b[39;49m\u001b[43mkwargs\u001b[49m\u001b[43m)\u001b[49m\n",
      "File \u001b[0;32m~/miniconda3/envs/legal_contract_advisor/lib/python3.10/site-packages/openai/resources/chat/completions.py:663\u001b[0m, in \u001b[0;36mCompletions.create\u001b[0;34m(self, messages, model, frequency_penalty, function_call, functions, logit_bias, logprobs, max_tokens, n, presence_penalty, response_format, seed, stop, stream, temperature, tool_choice, tools, top_logprobs, top_p, user, extra_headers, extra_query, extra_body, timeout)\u001b[0m\n\u001b[1;32m    611\u001b[0m \u001b[38;5;129m@required_args\u001b[39m([\u001b[38;5;124m\"\u001b[39m\u001b[38;5;124mmessages\u001b[39m\u001b[38;5;124m\"\u001b[39m, \u001b[38;5;124m\"\u001b[39m\u001b[38;5;124mmodel\u001b[39m\u001b[38;5;124m\"\u001b[39m], [\u001b[38;5;124m\"\u001b[39m\u001b[38;5;124mmessages\u001b[39m\u001b[38;5;124m\"\u001b[39m, \u001b[38;5;124m\"\u001b[39m\u001b[38;5;124mmodel\u001b[39m\u001b[38;5;124m\"\u001b[39m, \u001b[38;5;124m\"\u001b[39m\u001b[38;5;124mstream\u001b[39m\u001b[38;5;124m\"\u001b[39m])\n\u001b[1;32m    612\u001b[0m \u001b[38;5;28;01mdef\u001b[39;00m \u001b[38;5;21mcreate\u001b[39m(\n\u001b[1;32m    613\u001b[0m     \u001b[38;5;28mself\u001b[39m,\n\u001b[0;32m   (...)\u001b[0m\n\u001b[1;32m    661\u001b[0m     timeout: \u001b[38;5;28mfloat\u001b[39m \u001b[38;5;241m|\u001b[39m httpx\u001b[38;5;241m.\u001b[39mTimeout \u001b[38;5;241m|\u001b[39m \u001b[38;5;28;01mNone\u001b[39;00m \u001b[38;5;241m|\u001b[39m NotGiven \u001b[38;5;241m=\u001b[39m NOT_GIVEN,\n\u001b[1;32m    662\u001b[0m ) \u001b[38;5;241m-\u001b[39m\u001b[38;5;241m>\u001b[39m ChatCompletion \u001b[38;5;241m|\u001b[39m Stream[ChatCompletionChunk]:\n\u001b[0;32m--> 663\u001b[0m     \u001b[38;5;28;01mreturn\u001b[39;00m \u001b[38;5;28;43mself\u001b[39;49m\u001b[38;5;241;43m.\u001b[39;49m\u001b[43m_post\u001b[49m\u001b[43m(\u001b[49m\n\u001b[1;32m    664\u001b[0m \u001b[43m        \u001b[49m\u001b[38;5;124;43m\"\u001b[39;49m\u001b[38;5;124;43m/chat/completions\u001b[39;49m\u001b[38;5;124;43m\"\u001b[39;49m\u001b[43m,\u001b[49m\n\u001b[1;32m    665\u001b[0m \u001b[43m        \u001b[49m\u001b[43mbody\u001b[49m\u001b[38;5;241;43m=\u001b[39;49m\u001b[43mmaybe_transform\u001b[49m\u001b[43m(\u001b[49m\n\u001b[1;32m    666\u001b[0m \u001b[43m            \u001b[49m\u001b[43m{\u001b[49m\n\u001b[1;32m    667\u001b[0m \u001b[43m                \u001b[49m\u001b[38;5;124;43m\"\u001b[39;49m\u001b[38;5;124;43mmessages\u001b[39;49m\u001b[38;5;124;43m\"\u001b[39;49m\u001b[43m:\u001b[49m\u001b[43m \u001b[49m\u001b[43mmessages\u001b[49m\u001b[43m,\u001b[49m\n\u001b[1;32m    668\u001b[0m \u001b[43m                \u001b[49m\u001b[38;5;124;43m\"\u001b[39;49m\u001b[38;5;124;43mmodel\u001b[39;49m\u001b[38;5;124;43m\"\u001b[39;49m\u001b[43m:\u001b[49m\u001b[43m \u001b[49m\u001b[43mmodel\u001b[49m\u001b[43m,\u001b[49m\n\u001b[1;32m    669\u001b[0m \u001b[43m                \u001b[49m\u001b[38;5;124;43m\"\u001b[39;49m\u001b[38;5;124;43mfrequency_penalty\u001b[39;49m\u001b[38;5;124;43m\"\u001b[39;49m\u001b[43m:\u001b[49m\u001b[43m \u001b[49m\u001b[43mfrequency_penalty\u001b[49m\u001b[43m,\u001b[49m\n\u001b[1;32m    670\u001b[0m \u001b[43m                \u001b[49m\u001b[38;5;124;43m\"\u001b[39;49m\u001b[38;5;124;43mfunction_call\u001b[39;49m\u001b[38;5;124;43m\"\u001b[39;49m\u001b[43m:\u001b[49m\u001b[43m \u001b[49m\u001b[43mfunction_call\u001b[49m\u001b[43m,\u001b[49m\n\u001b[1;32m    671\u001b[0m \u001b[43m                \u001b[49m\u001b[38;5;124;43m\"\u001b[39;49m\u001b[38;5;124;43mfunctions\u001b[39;49m\u001b[38;5;124;43m\"\u001b[39;49m\u001b[43m:\u001b[49m\u001b[43m \u001b[49m\u001b[43mfunctions\u001b[49m\u001b[43m,\u001b[49m\n\u001b[1;32m    672\u001b[0m \u001b[43m                \u001b[49m\u001b[38;5;124;43m\"\u001b[39;49m\u001b[38;5;124;43mlogit_bias\u001b[39;49m\u001b[38;5;124;43m\"\u001b[39;49m\u001b[43m:\u001b[49m\u001b[43m \u001b[49m\u001b[43mlogit_bias\u001b[49m\u001b[43m,\u001b[49m\n\u001b[1;32m    673\u001b[0m \u001b[43m                \u001b[49m\u001b[38;5;124;43m\"\u001b[39;49m\u001b[38;5;124;43mlogprobs\u001b[39;49m\u001b[38;5;124;43m\"\u001b[39;49m\u001b[43m:\u001b[49m\u001b[43m \u001b[49m\u001b[43mlogprobs\u001b[49m\u001b[43m,\u001b[49m\n\u001b[1;32m    674\u001b[0m \u001b[43m                \u001b[49m\u001b[38;5;124;43m\"\u001b[39;49m\u001b[38;5;124;43mmax_tokens\u001b[39;49m\u001b[38;5;124;43m\"\u001b[39;49m\u001b[43m:\u001b[49m\u001b[43m \u001b[49m\u001b[43mmax_tokens\u001b[49m\u001b[43m,\u001b[49m\n\u001b[1;32m    675\u001b[0m \u001b[43m                \u001b[49m\u001b[38;5;124;43m\"\u001b[39;49m\u001b[38;5;124;43mn\u001b[39;49m\u001b[38;5;124;43m\"\u001b[39;49m\u001b[43m:\u001b[49m\u001b[43m \u001b[49m\u001b[43mn\u001b[49m\u001b[43m,\u001b[49m\n\u001b[1;32m    676\u001b[0m \u001b[43m                \u001b[49m\u001b[38;5;124;43m\"\u001b[39;49m\u001b[38;5;124;43mpresence_penalty\u001b[39;49m\u001b[38;5;124;43m\"\u001b[39;49m\u001b[43m:\u001b[49m\u001b[43m \u001b[49m\u001b[43mpresence_penalty\u001b[49m\u001b[43m,\u001b[49m\n\u001b[1;32m    677\u001b[0m \u001b[43m                \u001b[49m\u001b[38;5;124;43m\"\u001b[39;49m\u001b[38;5;124;43mresponse_format\u001b[39;49m\u001b[38;5;124;43m\"\u001b[39;49m\u001b[43m:\u001b[49m\u001b[43m \u001b[49m\u001b[43mresponse_format\u001b[49m\u001b[43m,\u001b[49m\n\u001b[1;32m    678\u001b[0m \u001b[43m                \u001b[49m\u001b[38;5;124;43m\"\u001b[39;49m\u001b[38;5;124;43mseed\u001b[39;49m\u001b[38;5;124;43m\"\u001b[39;49m\u001b[43m:\u001b[49m\u001b[43m \u001b[49m\u001b[43mseed\u001b[49m\u001b[43m,\u001b[49m\n\u001b[1;32m    679\u001b[0m \u001b[43m                \u001b[49m\u001b[38;5;124;43m\"\u001b[39;49m\u001b[38;5;124;43mstop\u001b[39;49m\u001b[38;5;124;43m\"\u001b[39;49m\u001b[43m:\u001b[49m\u001b[43m \u001b[49m\u001b[43mstop\u001b[49m\u001b[43m,\u001b[49m\n\u001b[1;32m    680\u001b[0m \u001b[43m                \u001b[49m\u001b[38;5;124;43m\"\u001b[39;49m\u001b[38;5;124;43mstream\u001b[39;49m\u001b[38;5;124;43m\"\u001b[39;49m\u001b[43m:\u001b[49m\u001b[43m \u001b[49m\u001b[43mstream\u001b[49m\u001b[43m,\u001b[49m\n\u001b[1;32m    681\u001b[0m \u001b[43m                \u001b[49m\u001b[38;5;124;43m\"\u001b[39;49m\u001b[38;5;124;43mtemperature\u001b[39;49m\u001b[38;5;124;43m\"\u001b[39;49m\u001b[43m:\u001b[49m\u001b[43m \u001b[49m\u001b[43mtemperature\u001b[49m\u001b[43m,\u001b[49m\n\u001b[1;32m    682\u001b[0m \u001b[43m                \u001b[49m\u001b[38;5;124;43m\"\u001b[39;49m\u001b[38;5;124;43mtool_choice\u001b[39;49m\u001b[38;5;124;43m\"\u001b[39;49m\u001b[43m:\u001b[49m\u001b[43m \u001b[49m\u001b[43mtool_choice\u001b[49m\u001b[43m,\u001b[49m\n\u001b[1;32m    683\u001b[0m \u001b[43m                \u001b[49m\u001b[38;5;124;43m\"\u001b[39;49m\u001b[38;5;124;43mtools\u001b[39;49m\u001b[38;5;124;43m\"\u001b[39;49m\u001b[43m:\u001b[49m\u001b[43m \u001b[49m\u001b[43mtools\u001b[49m\u001b[43m,\u001b[49m\n\u001b[1;32m    684\u001b[0m \u001b[43m                \u001b[49m\u001b[38;5;124;43m\"\u001b[39;49m\u001b[38;5;124;43mtop_logprobs\u001b[39;49m\u001b[38;5;124;43m\"\u001b[39;49m\u001b[43m:\u001b[49m\u001b[43m \u001b[49m\u001b[43mtop_logprobs\u001b[49m\u001b[43m,\u001b[49m\n\u001b[1;32m    685\u001b[0m \u001b[43m                \u001b[49m\u001b[38;5;124;43m\"\u001b[39;49m\u001b[38;5;124;43mtop_p\u001b[39;49m\u001b[38;5;124;43m\"\u001b[39;49m\u001b[43m:\u001b[49m\u001b[43m \u001b[49m\u001b[43mtop_p\u001b[49m\u001b[43m,\u001b[49m\n\u001b[1;32m    686\u001b[0m \u001b[43m                \u001b[49m\u001b[38;5;124;43m\"\u001b[39;49m\u001b[38;5;124;43muser\u001b[39;49m\u001b[38;5;124;43m\"\u001b[39;49m\u001b[43m:\u001b[49m\u001b[43m \u001b[49m\u001b[43muser\u001b[49m\u001b[43m,\u001b[49m\n\u001b[1;32m    687\u001b[0m \u001b[43m            \u001b[49m\u001b[43m}\u001b[49m\u001b[43m,\u001b[49m\n\u001b[1;32m    688\u001b[0m \u001b[43m            \u001b[49m\u001b[43mcompletion_create_params\u001b[49m\u001b[38;5;241;43m.\u001b[39;49m\u001b[43mCompletionCreateParams\u001b[49m\u001b[43m,\u001b[49m\n\u001b[1;32m    689\u001b[0m \u001b[43m        \u001b[49m\u001b[43m)\u001b[49m\u001b[43m,\u001b[49m\n\u001b[1;32m    690\u001b[0m \u001b[43m        \u001b[49m\u001b[43moptions\u001b[49m\u001b[38;5;241;43m=\u001b[39;49m\u001b[43mmake_request_options\u001b[49m\u001b[43m(\u001b[49m\n\u001b[1;32m    691\u001b[0m \u001b[43m            \u001b[49m\u001b[43mextra_headers\u001b[49m\u001b[38;5;241;43m=\u001b[39;49m\u001b[43mextra_headers\u001b[49m\u001b[43m,\u001b[49m\u001b[43m \u001b[49m\u001b[43mextra_query\u001b[49m\u001b[38;5;241;43m=\u001b[39;49m\u001b[43mextra_query\u001b[49m\u001b[43m,\u001b[49m\u001b[43m \u001b[49m\u001b[43mextra_body\u001b[49m\u001b[38;5;241;43m=\u001b[39;49m\u001b[43mextra_body\u001b[49m\u001b[43m,\u001b[49m\u001b[43m \u001b[49m\u001b[43mtimeout\u001b[49m\u001b[38;5;241;43m=\u001b[39;49m\u001b[43mtimeout\u001b[49m\n\u001b[1;32m    692\u001b[0m \u001b[43m        \u001b[49m\u001b[43m)\u001b[49m\u001b[43m,\u001b[49m\n\u001b[1;32m    693\u001b[0m \u001b[43m        \u001b[49m\u001b[43mcast_to\u001b[49m\u001b[38;5;241;43m=\u001b[39;49m\u001b[43mChatCompletion\u001b[49m\u001b[43m,\u001b[49m\n\u001b[1;32m    694\u001b[0m \u001b[43m        \u001b[49m\u001b[43mstream\u001b[49m\u001b[38;5;241;43m=\u001b[39;49m\u001b[43mstream\u001b[49m\u001b[43m \u001b[49m\u001b[38;5;129;43;01mor\u001b[39;49;00m\u001b[43m \u001b[49m\u001b[38;5;28;43;01mFalse\u001b[39;49;00m\u001b[43m,\u001b[49m\n\u001b[1;32m    695\u001b[0m \u001b[43m        \u001b[49m\u001b[43mstream_cls\u001b[49m\u001b[38;5;241;43m=\u001b[39;49m\u001b[43mStream\u001b[49m\u001b[43m[\u001b[49m\u001b[43mChatCompletionChunk\u001b[49m\u001b[43m]\u001b[49m\u001b[43m,\u001b[49m\n\u001b[1;32m    696\u001b[0m \u001b[43m    \u001b[49m\u001b[43m)\u001b[49m\n",
      "File \u001b[0;32m~/miniconda3/envs/legal_contract_advisor/lib/python3.10/site-packages/openai/_base_client.py:1200\u001b[0m, in \u001b[0;36mSyncAPIClient.post\u001b[0;34m(self, path, cast_to, body, options, files, stream, stream_cls)\u001b[0m\n\u001b[1;32m   1186\u001b[0m \u001b[38;5;28;01mdef\u001b[39;00m \u001b[38;5;21mpost\u001b[39m(\n\u001b[1;32m   1187\u001b[0m     \u001b[38;5;28mself\u001b[39m,\n\u001b[1;32m   1188\u001b[0m     path: \u001b[38;5;28mstr\u001b[39m,\n\u001b[0;32m   (...)\u001b[0m\n\u001b[1;32m   1195\u001b[0m     stream_cls: \u001b[38;5;28mtype\u001b[39m[_StreamT] \u001b[38;5;241m|\u001b[39m \u001b[38;5;28;01mNone\u001b[39;00m \u001b[38;5;241m=\u001b[39m \u001b[38;5;28;01mNone\u001b[39;00m,\n\u001b[1;32m   1196\u001b[0m ) \u001b[38;5;241m-\u001b[39m\u001b[38;5;241m>\u001b[39m ResponseT \u001b[38;5;241m|\u001b[39m _StreamT:\n\u001b[1;32m   1197\u001b[0m     opts \u001b[38;5;241m=\u001b[39m FinalRequestOptions\u001b[38;5;241m.\u001b[39mconstruct(\n\u001b[1;32m   1198\u001b[0m         method\u001b[38;5;241m=\u001b[39m\u001b[38;5;124m\"\u001b[39m\u001b[38;5;124mpost\u001b[39m\u001b[38;5;124m\"\u001b[39m, url\u001b[38;5;241m=\u001b[39mpath, json_data\u001b[38;5;241m=\u001b[39mbody, files\u001b[38;5;241m=\u001b[39mto_httpx_files(files), \u001b[38;5;241m*\u001b[39m\u001b[38;5;241m*\u001b[39moptions\n\u001b[1;32m   1199\u001b[0m     )\n\u001b[0;32m-> 1200\u001b[0m     \u001b[38;5;28;01mreturn\u001b[39;00m cast(ResponseT, \u001b[38;5;28;43mself\u001b[39;49m\u001b[38;5;241;43m.\u001b[39;49m\u001b[43mrequest\u001b[49m\u001b[43m(\u001b[49m\u001b[43mcast_to\u001b[49m\u001b[43m,\u001b[49m\u001b[43m \u001b[49m\u001b[43mopts\u001b[49m\u001b[43m,\u001b[49m\u001b[43m \u001b[49m\u001b[43mstream\u001b[49m\u001b[38;5;241;43m=\u001b[39;49m\u001b[43mstream\u001b[49m\u001b[43m,\u001b[49m\u001b[43m \u001b[49m\u001b[43mstream_cls\u001b[49m\u001b[38;5;241;43m=\u001b[39;49m\u001b[43mstream_cls\u001b[49m\u001b[43m)\u001b[49m)\n",
      "File \u001b[0;32m~/miniconda3/envs/legal_contract_advisor/lib/python3.10/site-packages/openai/_base_client.py:889\u001b[0m, in \u001b[0;36mSyncAPIClient.request\u001b[0;34m(self, cast_to, options, remaining_retries, stream, stream_cls)\u001b[0m\n\u001b[1;32m    880\u001b[0m \u001b[38;5;28;01mdef\u001b[39;00m \u001b[38;5;21mrequest\u001b[39m(\n\u001b[1;32m    881\u001b[0m     \u001b[38;5;28mself\u001b[39m,\n\u001b[1;32m    882\u001b[0m     cast_to: Type[ResponseT],\n\u001b[0;32m   (...)\u001b[0m\n\u001b[1;32m    887\u001b[0m     stream_cls: \u001b[38;5;28mtype\u001b[39m[_StreamT] \u001b[38;5;241m|\u001b[39m \u001b[38;5;28;01mNone\u001b[39;00m \u001b[38;5;241m=\u001b[39m \u001b[38;5;28;01mNone\u001b[39;00m,\n\u001b[1;32m    888\u001b[0m ) \u001b[38;5;241m-\u001b[39m\u001b[38;5;241m>\u001b[39m ResponseT \u001b[38;5;241m|\u001b[39m _StreamT:\n\u001b[0;32m--> 889\u001b[0m     \u001b[38;5;28;01mreturn\u001b[39;00m \u001b[38;5;28;43mself\u001b[39;49m\u001b[38;5;241;43m.\u001b[39;49m\u001b[43m_request\u001b[49m\u001b[43m(\u001b[49m\n\u001b[1;32m    890\u001b[0m \u001b[43m        \u001b[49m\u001b[43mcast_to\u001b[49m\u001b[38;5;241;43m=\u001b[39;49m\u001b[43mcast_to\u001b[49m\u001b[43m,\u001b[49m\n\u001b[1;32m    891\u001b[0m \u001b[43m        \u001b[49m\u001b[43moptions\u001b[49m\u001b[38;5;241;43m=\u001b[39;49m\u001b[43moptions\u001b[49m\u001b[43m,\u001b[49m\n\u001b[1;32m    892\u001b[0m \u001b[43m        \u001b[49m\u001b[43mstream\u001b[49m\u001b[38;5;241;43m=\u001b[39;49m\u001b[43mstream\u001b[49m\u001b[43m,\u001b[49m\n\u001b[1;32m    893\u001b[0m \u001b[43m        \u001b[49m\u001b[43mstream_cls\u001b[49m\u001b[38;5;241;43m=\u001b[39;49m\u001b[43mstream_cls\u001b[49m\u001b[43m,\u001b[49m\n\u001b[1;32m    894\u001b[0m \u001b[43m        \u001b[49m\u001b[43mremaining_retries\u001b[49m\u001b[38;5;241;43m=\u001b[39;49m\u001b[43mremaining_retries\u001b[49m\u001b[43m,\u001b[49m\n\u001b[1;32m    895\u001b[0m \u001b[43m    \u001b[49m\u001b[43m)\u001b[49m\n",
      "File \u001b[0;32m~/miniconda3/envs/legal_contract_advisor/lib/python3.10/site-packages/openai/_base_client.py:980\u001b[0m, in \u001b[0;36mSyncAPIClient._request\u001b[0;34m(self, cast_to, options, remaining_retries, stream, stream_cls)\u001b[0m\n\u001b[1;32m    977\u001b[0m         err\u001b[38;5;241m.\u001b[39mresponse\u001b[38;5;241m.\u001b[39mread()\n\u001b[1;32m    979\u001b[0m     log\u001b[38;5;241m.\u001b[39mdebug(\u001b[38;5;124m\"\u001b[39m\u001b[38;5;124mRe-raising status error\u001b[39m\u001b[38;5;124m\"\u001b[39m)\n\u001b[0;32m--> 980\u001b[0m     \u001b[38;5;28;01mraise\u001b[39;00m \u001b[38;5;28mself\u001b[39m\u001b[38;5;241m.\u001b[39m_make_status_error_from_response(err\u001b[38;5;241m.\u001b[39mresponse) \u001b[38;5;28;01mfrom\u001b[39;00m \u001b[38;5;28;01mNone\u001b[39;00m\n\u001b[1;32m    982\u001b[0m \u001b[38;5;28;01mreturn\u001b[39;00m \u001b[38;5;28mself\u001b[39m\u001b[38;5;241m.\u001b[39m_process_response(\n\u001b[1;32m    983\u001b[0m     cast_to\u001b[38;5;241m=\u001b[39mcast_to,\n\u001b[1;32m    984\u001b[0m     options\u001b[38;5;241m=\u001b[39moptions,\n\u001b[0;32m   (...)\u001b[0m\n\u001b[1;32m    987\u001b[0m     stream_cls\u001b[38;5;241m=\u001b[39mstream_cls,\n\u001b[1;32m    988\u001b[0m )\n",
      "\u001b[0;31mAuthenticationError\u001b[0m: Error code: 401 - {'error': {'message': 'Incorrect API key provided: sk-RtkFm***************************************oyCA. You can find your API key at https://platform.openai.com/account/api-keys.', 'type': 'invalid_request_error', 'param': None, 'code': 'invalid_api_key'}}"
     ]
    }
   ],
   "source": [
    "llm.invoke(\"What is a legally binding contract and its termination period?\")"
   ]
  },
  {
   "cell_type": "markdown",
   "metadata": {},
   "source": [
    "## Working with LangChainExpressionLanguage(LCEL) to create a chain"
   ]
  },
  {
   "cell_type": "code",
   "execution_count": 5,
   "metadata": {},
   "outputs": [],
   "source": [
    "from langchain_core.prompts import ChatPromptTemplate\n",
    "\n",
    "# add output parser to the chain, specifically string parser for the output\n",
    "from langchain_core.output_parsers import StrOutputParser\n",
    "\n",
    "output_parser = StrOutputParser()\n",
    "\n",
    "prompt = ChatPromptTemplate.from_messages([\n",
    "    (\"system\", \"You are an expert in reviewing a contract between Cloud Investments and Mr Jack Robinson\"),\n",
    "    (\"user\", \"{input}\")\n",
    "])"
   ]
  },
  {
   "cell_type": "code",
   "execution_count": 6,
   "metadata": {},
   "outputs": [],
   "source": [
    "chain = prompt | llm | output_parser"
   ]
  },
  {
   "cell_type": "markdown",
   "metadata": {},
   "source": [
    "## Asking our LLM a question regarding the contract\n",
    "Since it doesn't actually know about the contract between the 2 parties, it won't give us the direct/correct answer we want"
   ]
  },
  {
   "cell_type": "code",
   "execution_count": 24,
   "metadata": {},
   "outputs": [
    {
     "data": {
      "text/plain": [
       "'In the contract between Cloud Investments and Mr. Jack Robinson, the ownership of intellectual property (IP) rights should be clearly outlined. Typically, in a business contract, the ownership of IP created by an employee or contractor during the course of their work for the company would belong to the company, unless otherwise specified in the contract. It is important to review the specific terms of the contract to determine who owns the IP rights in this particular case.'"
      ]
     },
     "execution_count": 24,
     "metadata": {},
     "output_type": "execute_result"
    }
   ],
   "source": [
    "chain.invoke({\"input\": \"Who owns the IP\"})"
   ]
  },
  {
   "cell_type": "markdown",
   "metadata": {},
   "source": [
    "## Working on the retriever"
   ]
  },
  {
   "cell_type": "code",
   "execution_count": 47,
   "metadata": {},
   "outputs": [],
   "source": [
    "from langchain_community.document_loaders import PyPDFLoader\n",
    "\n",
    "loader = PyPDFLoader(\"../data/Raptor Contract.pdf\")\n",
    "pages = loader.load()"
   ]
  },
  {
   "cell_type": "code",
   "execution_count": 48,
   "metadata": {},
   "outputs": [
    {
     "data": {
      "text/plain": [
       "73"
      ]
     },
     "execution_count": 48,
     "metadata": {},
     "output_type": "execute_result"
    }
   ],
   "source": [
    "len(pages)"
   ]
  },
  {
   "cell_type": "code",
   "execution_count": 49,
   "metadata": {},
   "outputs": [
    {
     "data": {
      "text/plain": [
       "302"
      ]
     },
     "execution_count": 49,
     "metadata": {},
     "output_type": "execute_result"
    }
   ],
   "source": [
    "# Splitting the documents into chunks\n",
    "from langchain.text_splitter  import RecursiveCharacterTextSplitter\n",
    "\n",
    "text_splitter = RecursiveCharacterTextSplitter(\n",
    "            chunk_size=1000, chunk_overlap=200, length_function=len\n",
    ")\n",
    "document_chunks = text_splitter.split_documents(pages)\n",
    "len(document_chunks)\n"
   ]
  },
  {
   "cell_type": "code",
   "execution_count": 50,
   "metadata": {},
   "outputs": [],
   "source": [
    "# storing the chunks in a vector store\n",
    "from langchain_community.vectorstores import Chroma\n",
    "from langchain_openai import OpenAIEmbeddings\n",
    "\n",
    "embeddings = OpenAIEmbeddings()\n",
    "\n",
    "# save to disk\n",
    "db = Chroma.from_documents(pages, embeddings, persist_directory=\"../data/chroma_db\")\n"
   ]
  },
  {
   "cell_type": "code",
   "execution_count": 51,
   "metadata": {},
   "outputs": [
    {
     "name": "stdout",
     "output_type": "stream",
     "text": [
      "case\n",
      "of\n",
      "each\n",
      "of\n",
      "(a)\n",
      "and\n",
      "(b),\n",
      "as\n",
      "a\n",
      "result\n",
      "of\n",
      "the \n",
      "execution\n",
      "and\n",
      "delivery\n",
      "of\n",
      "this\n",
      "Agreement\n",
      "or\n",
      "the\n",
      "consummation\n",
      "of\n",
      "the\n",
      "Contemplated \n",
      "Transactions.\n",
      "“\n",
      "Closing\n",
      "Cash\n",
      "Amount\n",
      "”\n",
      "means\n",
      "the\n",
      "sum\n",
      "of\n",
      "all\n",
      "cash\n",
      "and\n",
      "cash\n",
      "equivalents\n",
      "of\n",
      "the\n",
      "Acquired \n",
      "Companies\n",
      "as\n",
      "of\n",
      "immediately\n",
      "prior\n",
      "to\n",
      "the\n",
      "Closing,\n",
      "less\n",
      "(without\n",
      "duplication)\n",
      "the\n",
      "amount\n",
      "of \n",
      "outstanding\n",
      "checks\n",
      "as\n",
      "of\n",
      "the\n",
      "Closing.\n",
      "“\n",
      "Closing\n",
      "Debt\n",
      "Amount\n",
      "”\n",
      "means\n",
      "the\n",
      "amount\n",
      "of\n",
      "Debt\n",
      "of\n",
      "the\n",
      "Acquired\n",
      "Companies \n",
      "(disregarding\n",
      "Debt\n",
      "of\n",
      "any\n",
      "Acquired\n",
      "Company\n",
      "to\n",
      "another\n",
      "Acquired\n",
      "Company)\n",
      "as\n",
      "of\n",
      "immediately \n",
      "prior\n",
      "to\n",
      "the\n",
      "Closing\n",
      "determined\n",
      "without\n",
      "giving\n",
      "effect\n",
      "to\n",
      "any\n",
      "reduction\n",
      "to\n",
      "such\n",
      "amount\n",
      "occurring \n",
      "as\n",
      "a\n",
      "result\n",
      "of\n",
      "the\n",
      "repayment\n",
      "of\n",
      "Debt\n",
      "on\n",
      "the\n",
      "Closing\n",
      "Date.\n",
      "-\n",
      "3\n",
      "-\n",
      "112923184_5\n"
     ]
    }
   ],
   "source": [
    "# load from disk\n",
    "vector_store = Chroma(persist_directory=\"../data/chroma_db\", embedding_function=embeddings)\n",
    "\n",
    "query = 'What does Closing Debt Amount mean?'\n",
    "docs_retrieved = vector_store.similarity_search(query)\n",
    "print(docs_retrieved[0].page_content)"
   ]
  },
  {
   "cell_type": "markdown",
   "metadata": {},
   "source": [
    "## Create a RAG Chain"
   ]
  },
  {
   "cell_type": "code",
   "execution_count": 29,
   "metadata": {},
   "outputs": [],
   "source": [
    "# create chain for documents\n",
    "from langchain.chains.combine_documents import create_stuff_documents_chain\n",
    "\n",
    "template = \"\"\"\"Answer the following question based only on the provided context:\n",
    "\n",
    "<context>\n",
    "{context}\n",
    "</context>\n",
    "\n",
    "Question: {input}\n",
    "\"\"\"\n",
    "prompt = ChatPromptTemplate.from_template(template)\n",
    "document_chain = create_stuff_documents_chain(llm, prompt)"
   ]
  },
  {
   "cell_type": "code",
   "execution_count": 30,
   "metadata": {},
   "outputs": [],
   "source": [
    "# create retrieval chain\n",
    "\n",
    "from langchain.chains import create_retrieval_chain\n",
    "\n",
    "retriever = vector_store.as_retriever()\n",
    "retrieval_chain = create_retrieval_chain(retriever, document_chain)"
   ]
  },
  {
   "cell_type": "code",
   "execution_count": 32,
   "metadata": {},
   "outputs": [
    {
     "data": {
      "text/plain": [
       "{'input': 'What does Closing Debt Amount mean?',\n",
       " 'context': [Document(page_content='case\\nof\\neach\\nof\\n(a)\\nand\\n(b),\\nas\\na\\nresult\\nof\\nthe \\nexecution\\nand\\ndelivery\\nof\\nthis\\nAgreement\\nor\\nthe\\nconsummation\\nof\\nthe\\nContemplated \\nTransactions.\\n“\\nClosing\\nCash\\nAmount\\n”\\nmeans\\nthe\\nsum\\nof\\nall\\ncash\\nand\\ncash\\nequivalents\\nof\\nthe\\nAcquired \\nCompanies\\nas\\nof\\nimmediately\\nprior\\nto\\nthe\\nClosing,\\nless\\n(without\\nduplication)\\nthe\\namount\\nof \\noutstanding\\nchecks\\nas\\nof\\nthe\\nClosing.\\n“\\nClosing\\nDebt\\nAmount\\n”\\nmeans\\nthe\\namount\\nof\\nDebt\\nof\\nthe\\nAcquired\\nCompanies \\n(disregarding\\nDebt\\nof\\nany\\nAcquired\\nCompany\\nto\\nanother\\nAcquired\\nCompany)\\nas\\nof\\nimmediately \\nprior\\nto\\nthe\\nClosing\\ndetermined\\nwithout\\ngiving\\neffect\\nto\\nany\\nreduction\\nto\\nsuch\\namount\\noccurring \\nas\\na\\nresult\\nof\\nthe\\nrepayment\\nof\\nDebt\\non\\nthe\\nClosing\\nDate.\\n-\\n3\\n-\\n112923184_5', metadata={'page': 7, 'source': '../data/Raptor Contract.docx.pdf'}),\n",
       "  Document(page_content='agreed\\nto\\nby\\nthe\\nparties\\nand\\nthe\\ndecision\\nof\\nthe\\nAccounting\\nFirm\\npursuant\\nto\\nthis\\nSection\\n2.07\\nis \\nreferred\\nto\\nherein\\nas\\nthe\\n“\\nFinal\\nClosing\\nStatement\\n”.\\nEach\\nof\\nthe\\nparties\\nto\\nthis\\nAgreement\\nagrees \\nto\\nuse\\nits\\ncommercially\\nreasonable\\nefforts\\nto\\ncooperate\\nwith\\nthe\\nAccounting\\nFirm\\n(including\\nby \\nexecuting\\na\\ncustomary\\nengagement\\nletter\\nreasonably\\nacceptable\\nto\\nit)\\nand\\nto\\ncause\\nthe \\nAccounting\\nFirm\\nto\\nresolve\\nany\\nsuch\\ndispute\\nas\\nsoon\\nas\\npracticable\\nafter\\nthe\\ncommencement\\nof \\nthe\\nAccounting\\nFirm’ s\\nengagement.\\n(e)\\nPurchase\\nPrice\\nAdjustment\\n.\\nIf\\nany\\nof\\nthe\\nClosing\\nCash\\nAmount,\\nthe\\nClosing\\nDebt \\nAmount\\nor\\nthe\\nSeller\\nTransaction\\nExpenses\\n(as\\nfinally\\ndetermined\\npursuant\\nto\\nthis\\nSection\\n2.07 \\nand\\nas\\nset\\nforth\\nin\\nthe\\nFinal\\nClosing\\nStatement)\\ndiffers\\nfrom\\nthe\\nestimated\\namounts\\nthereof\\nset \\nforth\\nin\\nthe\\nEstimated\\nClosing\\nStatement,\\nthe\\nPurchase\\nPrice\\nshall\\nbe\\nrecalculated\\nusing\\nsuch \\nfinal\\nfigures\\nin\\nlieu\\nof\\nsuch\\nestimated\\nfigures,\\nand\\n(i)\\nthe\\nBuyer\\nshall\\npay\\nin\\ncash\\nto\\neach \\nCompany', metadata={'page': 25, 'source': '../data/Raptor Contract.docx.pdf'}),\n",
       "  Document(page_content='”\\nmeans,\\nwith\\nrespect\\nto\\nany\\nPerson,\\nand\\nwithout\\nduplication,\\nall\\nLiabilities, \\nincluding\\nall\\nobligations\\nin\\nrespect\\nof\\nprincipal,\\naccrued\\ninterest,\\npenalties,\\nfees\\nand\\npremiums \\n(including,\\nfor\\nthe\\navoidance\\nof\\ndoubt,\\nany\\nsuch\\npenalties,\\nfees\\nand\\npremiums\\narising\\nfrom\\nthe \\nearly\\ntermination\\nof\\nsuch\\nDebt\\non\\nthe\\nClosing\\nDate),\\nof\\nsuch\\nPerson\\n(a) for\\nborrowed\\nmoney \\n(including\\namounts\\noutstanding\\nunder\\noverdraft\\nfacilities),\\n(b)\\nevidenced\\nby\\nnotes,\\nbonds, \\ndebentures\\nor\\nother\\nsimilar\\nContractual\\nObligations,\\n(c)\\nin\\nrespect\\nof\\nletters\\nof\\ncredit\\nand \\nbankers’\\nacceptances,\\n(d)\\nfor\\nContractual\\nObligations\\nrelating\\nto\\ninterest\\nrate\\nprotection,\\nswap \\nagreements\\nand\\ncollar\\nagreements,\\nin\\neach\\ncase,\\nto\\nthe\\nextent\\npayable\\nif\\nsuch\\nContractual \\nObligation\\nis\\nterminated\\nat\\nthe\\nClosing,\\nand\\n(e)\\nin\\nthe\\nnature\\nof\\nGuarantees\\nof,\\nor\\nliens\\non\\nassets\\n-\\n4\\n-\\n112923184_5', metadata={'page': 8, 'source': '../data/Raptor Contract.docx.pdf'}),\n",
       "  Document(page_content='“\\nClosing\\nCash\\nConsideration\\n”\\nmeans\\nan\\namount\\nequal\\nto\\n(i)\\n$50,000,000,\\nminus\\n(ii)\\nthe \\nEscrow\\nAmount,\\nminus\\n(iii)\\nthe\\nClosing\\nDebt\\nAmount,\\nplus\\n(iv)\\nthe\\nClosing\\nCash\\nAmount, \\nminus\\n(v)\\nthe\\nsum\\nof\\nall\\nSeller\\nTransaction\\nExpenses.\\n“\\nCode\\n”\\nmeans\\nthe\\nU.S.\\nInternal\\nRevenue\\nCode\\nof\\n1986.\\n“\\nCompany\\nIntellectual\\nProperty\\n”\\nmeans\\nall\\nIntellectual\\nProperty\\nowned\\nor\\npurported\\nto \\nbe\\nowned\\nby,\\nor\\nexclusively\\nlicensed\\nor\\npurported\\nto\\nbe\\nexclusively\\nlicensed\\nto,\\nany\\nAcquired \\nCompany .\\n“\\nCompany’ s\\nKnowledge\\n,”\\n“\\nKnowledge\\nof\\nthe\\nCompany\\n”\\nand\\nsimilar\\nformulations\\nmean \\nthat\\none\\nor\\nmore\\nof\\n[●],[●],[●],[●]\\nand\\n[●]\\nhad\\nactual\\nknowledge\\nof\\nsuch\\nfact\\nor\\nother\\nmatter \\nafter\\nreasonable\\ninvestigation\\nof\\nall\\nemployees\\nof\\nthe\\nAcquired\\nCompanies\\nreasonably\\nexpected \\nto\\nhave\\nactual\\nknowledge\\nof\\nsuch\\nfact\\nor\\nmatter .\\n“\\nCompany\\nSecurityholders\\n”\\nmeans,\\ncollectively ,\\nthe\\nCompany\\nShareholders\\nand\\nthe \\nholders\\nof\\nVested\\nOptions\\nand\\nWarrants.\\n“\\nCompensation\\n”\\nmeans,\\nwith\\nrespect\\nto\\nany\\nPerson,\\nall\\nsalaries,', metadata={'page': 8, 'source': '../data/Raptor Contract.docx.pdf'})],\n",
       " 'answer': 'The Closing Debt Amount means the amount of debt of the Acquired Companies (excluding debt between Acquired Companies) as of immediately prior to the Closing Date, without considering any reduction in that amount that may occur due to debt repayment on the Closing Date.'}"
      ]
     },
     "execution_count": 32,
     "metadata": {},
     "output_type": "execute_result"
    }
   ],
   "source": [
    "response = retrieval_chain.invoke({\n",
    "    \"input\": \"What does Closing Debt Amount mean?\"\n",
    "})\n",
    "response"
   ]
  },
  {
   "cell_type": "code",
   "execution_count": 41,
   "metadata": {},
   "outputs": [
    {
     "data": {
      "text/plain": [
       "{'input': 'Under what circumstances and to what extent, the Sellers are responsible for a breach of representations and warranties?',\n",
       " 'context': [Document(page_content='or\\nthe \\nEscrow\\nAgreement,\\nor\\nany\\nconsent,\\nacknowledgment\\nor\\nrelease\\nrelating\\nto\\nthis\\nAgreement\\nor\\nthe \\nEscrow\\nAgreement;\\nand\\n(v)\\ntake\\nall\\nother\\nactions\\npermitted\\nor\\nrequired\\nto\\nbe\\ntaken\\nby\\nor\\non\\nbehalf\\nof\\nthe \\nSellers\\nunder\\nthis\\nAgreement\\nor\\nthe\\nEscrow\\nAgreement\\nand\\nexercise\\nany\\nand\\nall\\nrights\\nthat\\nthe \\nSellers\\nor\\nthe\\nSellers’\\nRepresentative\\nare\\npermitted\\nor\\nrequired\\nto\\ndo\\nor\\nexercise\\nunder\\nthis \\nAgreement\\nor\\nthe\\nEscrow\\nAgreement.\\n(d)\\nLiability\\n.\\nThe\\nSellers’\\nRepresentative\\nshall\\nnot\\nbe\\nheld\\nliable\\nby\\nany\\nof\\nthe \\nSellers\\nfor\\nactions\\nor\\nomissions\\nin\\nexercising\\nor\\nfailing\\nto\\nexercise\\nall\\nor\\nany\\nof\\nthe\\npower\\nand \\nauthority\\nof\\nthe\\nSellers’\\nRepresentative\\npursuant\\nto\\nthis\\nAgreement,\\nexcept\\nin\\nthe\\ncase\\nof\\nthe \\nSellers’\\nRepresentative’ s\\ngross\\nnegligence,\\nbad\\nfaith\\nor\\nwillful\\nmisconduct.\\nThe\\nSellers’ \\nRepresentative\\nshall\\nbe\\nentitled\\nto\\nrely\\non\\nthe\\nadvice\\nof\\ncounsel,\\npublic\\naccountants\\nor\\nother \\nindependent\\nexperts\\nthat\\nit\\nreasonably\\ndetermines\\nto\\nbe\\nexperienced\\nin\\nthe\\nmatter\\nat\\nissue,\\nand', metadata={'page': 66, 'source': '../data/Raptor Contract.docx.pdf'}),\n",
       "  Document(page_content='or\\nremedy\\nrelating\\nto\\nthis\\nAgreement\\nor\\nthe\\nContemplated\\nTransactions. \\nEach\\nSeller\\nagrees\\nthat\\nit\\nshall\\nbe\\nresponsible\\nfor\\nany\\nbreach\\nor\\nviolation\\nof\\nthe\\nprovisions\\nof\\nthis \\nSection\\n6.05(a)\\nby\\nany\\nof\\nits\\nAffiliates\\nor\\nits\\nor\\nits\\nAffiliates’\\nRepresentatives.\\n(b)\\nNotwithstanding\\nthe\\nforegoing,\\neach\\nof\\nthe\\nparties\\nhereto\\nand\\ntheir\\nrespective \\nRepresentatives\\nmay\\ndisclose\\nto\\nany\\nand\\nall\\nPersons,\\nwithout\\nlimitation\\nof\\nany\\nkind,\\nthe\\ntax \\ntreatment\\nand\\ntax\\nstructure\\nof\\nthe\\nContemplated\\nTransactions\\nand\\nall\\nmaterials\\nof\\nany\\nkind \\n(including\\nopinions\\nor\\nother\\ntax\\nanalyses)\\nthat\\nare\\nprovided\\nto\\nit\\nrelating\\nto\\nsuch\\ntax\\ntreatment \\nand\\ntax\\nstructure,\\nall\\nas\\ncontemplated\\nby\\nTreasury\\nRegulation\\nSection\\n1.601 1-4(b)(3)(iii).\\nFor\\nthe \\navoidance\\nof\\ndoubt,\\nnothing\\ncontained\\nin\\nthis\\nAgreement\\nlimits,\\nrestricts\\nor\\nin\\nany\\nother\\nway \\naffects\\nany\\nSeller ’s\\ncommunicating\\nwith\\nany\\nGovernmental\\nAuthority ,\\nor\\ncommunicating\\nwith \\nany\\nofficial\\nor\\nstaff\\nperson\\nof\\na\\nGovernmental\\nAuthority ,\\nconcerning\\nmatters', metadata={'page': 58, 'source': '../data/Raptor Contract.docx.pdf'}),\n",
       "  Document(page_content='any\\nSeller .\\nWithout\\nlimiting\\nthe\\ngenerality\\nof\\nthe\\nforegoing,\\nthe\\nSellers’\\nRepresentative\\nis\\nhereby \\nauthorized,\\non\\nbehalf\\nof\\nthe\\nSellers,\\nto:\\n(i)\\nin\\nconnection\\nwith\\nthe\\nClosing,\\nexecute\\nand\\nreceive\\nall\\ndocuments,\\ninstruments, \\ncertificates,\\nstatements\\nand\\nagreements\\non\\nbehalf\\nof\\nand\\nin\\nthe\\nname\\nof\\neach\\nSeller\\nnecessary\\nto \\neffectuate\\nthe\\nClosing\\nand\\nconsummate\\nthe\\nContemplated\\nTransactions;\\n(ii)\\nreceive\\nand\\ngive\\nall\\nnotices\\nand\\nservice\\nof\\nprocess,\\nmake\\nall\\nfilings,\\nenter\\ninto\\nall \\nContractual\\nObligations,\\nmake\\nall\\ndecisions,\\nbring,\\nprosecute,\\ndefend,\\nsettle,\\ncompromise\\nor \\notherwise\\nresolve\\nall\\nclaims,\\ndisputes\\nand\\nActions,\\nauthorize\\npayments\\nin\\nrespect\\nof\\nany\\nsuch \\nclaims,\\ndisputes\\nor\\nActions,\\nand\\ntake\\nall\\nother\\nactions,\\nin\\neach\\ncase,\\nwith\\nrespect\\nto\\nthe\\nmatters \\nset\\nforth\\nin\\nSection\\n2.06\\n,\\nArticle\\nVII\\n,\\nArticle\\nVIII\\nor\\nany\\nother\\nActions\\ndirectly\\nor\\nindirectly \\narising\\nout\\nof\\nor\\nrelating\\nto\\nthis\\nAgreement,\\nthe\\nEscrow\\nAgreement\\nor\\nthe\\nContemplated \\nTransactions;\\n(iii)\\nreceive\\nand\\ngive\\nall\\nnotices,\\nmake\\nall\\ndecisions\\nand\\ntake\\nall\\nother\\nactions\\non \\nbehalf\\nof\\nthe\\nSellers\\nin\\nconnection\\nwith\\nthe\\nescrow\\naccount\\nestablished\\npursuant\\nto\\nthe\\nEscrow \\nAgreement,\\nincluding\\ngiving\\nany\\ninstructions\\nor\\nauthorizations\\nto\\nthe\\nEscrow\\nAgent\\nto\\npay\\nfrom \\nsuch\\nescrow\\naccount\\nany\\namounts\\nowed\\nby\\nthe\\nSellers\\npursuant\\nto\\nthis\\nAgreement\\nor\\nthe\\nEscrow \\nAgreement\\nor\\notherwise\\nin\\nconnection\\nwith\\nthe\\nContemplated\\nTransactions;\\n(iv)\\nexecute\\nand\\ndeliver ,\\nshould\\nit\\nelect\\nto\\ndo\\nso\\nin\\nits\\ngood\\nfaith\\ndiscretion,\\non\\nbehalf \\nof\\nthe\\nSellers,\\nany\\namendment\\nto,\\nor\\nwaiver\\nof,\\nany\\nterm\\nor\\nprovision\\nof\\nthis\\nAgreement\\nor\\nthe \\nEscrow\\nAgreement,\\nor\\nany\\nconsent,\\nacknowledgment\\nor\\nrelease\\nrelating\\nto\\nthis\\nAgreement\\nor\\nthe \\nEscrow\\nAgreement;\\nand\\n(v)\\ntake\\nall\\nother\\nactions\\npermitted\\nor\\nrequired\\nto\\nbe\\ntaken\\nby\\nor\\non\\nbehalf\\nof\\nthe \\nSellers\\nunder\\nthis\\nAgreement\\nor\\nthe\\nEscrow\\nAgreement\\nand\\nexercise\\nany\\nand\\nall\\nrights\\nthat\\nthe \\nSellers\\nor\\nthe\\nSellers’\\nRepresentative\\nare\\npermitted\\nor\\nrequired\\nto\\ndo\\nor\\nexercise\\nunder\\nthis \\nAgreement\\nor\\nthe\\nEscrow\\nAgreement.\\n(d)\\nLiability\\n.\\nThe\\nSellers’\\nRepresentative\\nshall\\nnot\\nbe\\nheld\\nliable\\nby\\nany\\nof\\nthe \\nSellers\\nfor\\nactions\\nor\\nomissions\\nin\\nexercising\\nor\\nfailing\\nto\\nexercise\\nall\\nor\\nany\\nof\\nthe\\npower\\nand \\nauthority\\nof\\nthe\\nSellers’\\nRepresentative\\npursuant\\nto\\nthis\\nAgreement,\\nexcept\\nin\\nthe\\ncase\\nof\\nthe \\nSellers’\\nRepresentative’ s\\ngross\\nnegligence,\\nbad\\nfaith\\nor\\nwillful\\nmisconduct.\\nThe\\nSellers’ \\nRepresentative\\nshall\\nbe\\nentitled\\nto\\nrely\\non\\nthe\\nadvice\\nof\\ncounsel,\\npublic\\naccountants\\nor\\nother \\nindependent\\nexperts\\nthat\\nit\\nreasonably\\ndetermines\\nto\\nbe\\nexperienced\\nin\\nthe\\nmatter\\nat\\nissue,\\nand \\nwill\\nnot\\nbe\\nliable\\nto\\nany\\nSeller\\nfor\\nany\\naction\\ntaken\\nor\\nomitted\\nto\\nbe\\ntaken\\nin\\ngood\\nfaith\\nbased\\non \\nsuch\\nadvice.\\nEach\\nSeller\\nwill\\nseverally\\n(and\\nnot\\njointly)\\nindemnify\\n(in\\naccordance\\nwith\\nits\\nPro \\nRata\\nPercentage)\\nthe\\nSellers’\\nRepresentative\\nfrom\\nany\\nLosses\\narising\\nout\\nof\\nits\\nserving\\nas\\nthe \\nSellers’\\nRepresentative\\nhereunder ,\\nexcept\\nfor\\nLosses\\narising\\nout\\nof\\nor\\ncaused\\nby\\nthe\\nSellers’ \\nRepresentative’ s\\ngross\\nnegligence,\\nbad\\nfaith\\nor\\nwillful\\nmisconduct.\\nThe\\nSellers’\\nRepresentative \\nis\\nserving\\nin\\nits\\ncapacity\\nas\\nsuch\\nsolely\\nfor\\npurposes\\nof\\nadministrative\\nconvenience,\\nand\\nis\\nnot \\npersonally\\nliable\\nin\\nsuch\\ncapacity\\nfor\\nany\\nof\\nthe\\nobligations\\nof\\nthe\\nSellers\\nhereunder ,\\nand\\nthe \\nBuyer\\nagrees\\nthat\\nit\\nwill\\nnot\\nlook\\nto\\nthe\\npersonal\\nassets\\nof\\nthe\\nSellers’\\nRepresentative,\\nacting\\nin \\nsuch\\ncapacity ,\\nfor\\nthe\\nsatisfaction\\nof\\nany\\nobligations\\nto\\nbe\\nperformed\\nby\\nthe\\nSellers\\nhereunder .\\n-\\n62\\n-\\n112923184_5', metadata={'page': 66, 'source': '../data/Raptor Contract.docx.pdf'}),\n",
       "  Document(page_content='Representative\\nshall\\nbe\\nentitled\\nto\\nrely\\non\\nthe\\nadvice\\nof\\ncounsel,\\npublic\\naccountants\\nor\\nother \\nindependent\\nexperts\\nthat\\nit\\nreasonably\\ndetermines\\nto\\nbe\\nexperienced\\nin\\nthe\\nmatter\\nat\\nissue,\\nand \\nwill\\nnot\\nbe\\nliable\\nto\\nany\\nSeller\\nfor\\nany\\naction\\ntaken\\nor\\nomitted\\nto\\nbe\\ntaken\\nin\\ngood\\nfaith\\nbased\\non \\nsuch\\nadvice.\\nEach\\nSeller\\nwill\\nseverally\\n(and\\nnot\\njointly)\\nindemnify\\n(in\\naccordance\\nwith\\nits\\nPro \\nRata\\nPercentage)\\nthe\\nSellers’\\nRepresentative\\nfrom\\nany\\nLosses\\narising\\nout\\nof\\nits\\nserving\\nas\\nthe \\nSellers’\\nRepresentative\\nhereunder ,\\nexcept\\nfor\\nLosses\\narising\\nout\\nof\\nor\\ncaused\\nby\\nthe\\nSellers’ \\nRepresentative’ s\\ngross\\nnegligence,\\nbad\\nfaith\\nor\\nwillful\\nmisconduct.\\nThe\\nSellers’\\nRepresentative \\nis\\nserving\\nin\\nits\\ncapacity\\nas\\nsuch\\nsolely\\nfor\\npurposes\\nof\\nadministrative\\nconvenience,\\nand\\nis\\nnot \\npersonally\\nliable\\nin\\nsuch\\ncapacity\\nfor\\nany\\nof\\nthe\\nobligations\\nof\\nthe\\nSellers\\nhereunder ,\\nand\\nthe \\nBuyer\\nagrees\\nthat\\nit\\nwill\\nnot\\nlook\\nto\\nthe\\npersonal\\nassets\\nof\\nthe\\nSellers’\\nRepresentative,\\nacting\\nin \\nsuch\\ncapacity ,\\nfor', metadata={'page': 66, 'source': '../data/Raptor Contract.docx.pdf'})],\n",
       " 'answer': \"The Sellers are responsible for any breach or violation of the provisions outlined in Section 6.05(a) by any of its Affiliates or its or its Affiliates' Representatives. Each Seller agrees that it shall be responsible for any breach or violation of the provisions of this section.\"}"
      ]
     },
     "execution_count": 41,
     "metadata": {},
     "output_type": "execute_result"
    }
   ],
   "source": [
    "response = retrieval_chain.invoke({\n",
    "    \"input\": \"Under what circumstances and to what extent, the Sellers are responsible for a breach of representations and warranties?\"\n",
    "})\n",
    "response"
   ]
  },
  {
   "cell_type": "code",
   "execution_count": 42,
   "metadata": {},
   "outputs": [
    {
     "data": {
      "text/plain": [
       "{'input': 'How much is the escrow amount?',\n",
       " 'context': [Document(page_content='the\\nBuyer ,\\nor\\nits\\ndesignee,\\nin\\naccordance\\nwith\\nthe\\nterms\\nof \\nthe\\nEscrow\\nAgreement\\n(and\\nany\\nremaining\\nbalance\\nof\\nthe\\nEscrow\\nAmount\\nnot\\nrequired\\nto\\nbe \\npaid\\nto\\nthe\\nBuyer\\nshall\\nbe\\nreleased\\nto\\nCompany\\nSecurityholders\\nin\\naccordance\\nwith\\nthe\\nterms\\nof \\nthe\\nEscrow\\nAgreement).\\nSection\\nI.04\\nEscrow\\n.\\n(a)\\nAt\\nClosing,\\nBuyer\\nwill\\ndeposit\\nthe\\nEscrow\\nAmount\\nin\\nescrow\\non\\nbehalf\\nof\\nthe \\nSellers\\nin\\naccordance\\nwith\\nthe\\nEscrow\\nAgreement.\\nThe\\nEscrow\\nAmount\\nshall\\nbe\\nheld\\nand, \\nsubject\\nto\\nSection\\n2.07,\\nreleased\\nto\\nthe\\nCompany\\nSecurityholders\\nin\\naccordance\\nwith\\nthe \\nprovisions\\nof\\nthe\\nEscrow\\nAgreement\\nwith\\nthe\\nCompany\\nSecurityholders\\nbeing\\nentitled\\nto\\nshare\\nin \\nsuch\\nreleased\\namounts\\nin\\naccordance\\nwith\\ntheir\\nPro\\nRata\\nPercentages.\\nFrom\\nand\\nafter\\nthe \\nClosing,\\nBuyer\\nand\\nthe\\nSellers’\\nRepresentative\\nwill\\ndirect\\nthe\\nEscrow\\nAgent\\nto\\ndisburse \\npayments\\nfrom\\nthe\\nEscrow\\nAccount\\nin\\naccordance\\nwith\\nthe\\npurchase\\nprice\\nadjustment\\nprovisions \\nof\\nthis\\nAgreement\\nand\\nthe\\nterms\\nof\\nthe\\nEscrow\\nAgreement\\nincluding:\\n(a)\\nin\\nthe\\ncase', metadata={'page': 25, 'source': '../data/Raptor Contract.docx.pdf'}),\n",
       "  Document(page_content='forth\\nin\\nthe\\nEstimated\\nClosing\\nStatement,\\nthe\\nPurchase\\nPrice\\nshall\\nbe\\nrecalculated\\nusing\\nsuch \\nfinal\\nfigures\\nin\\nlieu\\nof\\nsuch\\nestimated\\nfigures,\\nand\\n(i)\\nthe\\nBuyer\\nshall\\npay\\nin\\ncash\\nto\\neach \\nCompany\\nSecurityholder\\nby\\nwire\\ntransfer\\nof\\nimmediately\\navailable\\nfunds\\nits\\nPro\\nRata\\nPercentage \\nof\\nthe\\namount,\\nif\\nany,\\nby\\nwhich\\nsuch\\nre-calculated\\nfinal\\nPurchase\\nPrice\\nexceeds\\nthe\\nestimated \\nPurchase\\nPrice\\npaid\\nat\\nClosing\\nin\\naccordance\\nwith\\nSection 2.05(a)(i)\\nand\\nSection\\n2.07(a)\\nand\\nthe \\nEscrow\\nAgent\\nshall\\nrelease\\nthe\\nEscrow\\nAmount\\nto\\nCompany\\nSecurityholders\\nin\\naccordance\\nwith \\nthe\\nEscrow\\nAgreement\\nor\\n(ii)\\nthe\\namount,\\nif\\nany,\\nby\\nwhich\\nsuch\\nestimated\\nPurchase\\nPrice\\npaid\\nat \\nClosing\\nin\\naccordance\\nwith\\nSection 2.05(a)(i)\\nand\\nSection\\n2.07(a)\\nexceeds\\nsuch\\nre-calculated \\nfinal\\nPurchase\\nPrice\\nshall\\nbe\\npaid\\nto\\nthe\\nBuyer ,\\nor\\nits\\ndesignee,\\nin\\naccordance\\nwith\\nthe\\nterms\\nof \\nthe\\nEscrow\\nAgreement\\n(and\\nany\\nremaining\\nbalance\\nof\\nthe\\nEscrow\\nAmount\\nnot\\nrequired\\nto\\nbe \\npaid\\nto\\nthe\\nBuyer\\nshall\\nbe\\nreleased\\nto\\nCompany', metadata={'page': 25, 'source': '../data/Raptor Contract.docx.pdf'}),\n",
       "  Document(page_content='agreed\\nto\\nby\\nthe\\nparties\\nand\\nthe\\ndecision\\nof\\nthe\\nAccounting\\nFirm\\npursuant\\nto\\nthis\\nSection\\n2.07\\nis \\nreferred\\nto\\nherein\\nas\\nthe\\n“\\nFinal\\nClosing\\nStatement\\n”.\\nEach\\nof\\nthe\\nparties\\nto\\nthis\\nAgreement\\nagrees \\nto\\nuse\\nits\\ncommercially\\nreasonable\\nefforts\\nto\\ncooperate\\nwith\\nthe\\nAccounting\\nFirm\\n(including\\nby \\nexecuting\\na\\ncustomary\\nengagement\\nletter\\nreasonably\\nacceptable\\nto\\nit)\\nand\\nto\\ncause\\nthe \\nAccounting\\nFirm\\nto\\nresolve\\nany\\nsuch\\ndispute\\nas\\nsoon\\nas\\npracticable\\nafter\\nthe\\ncommencement\\nof \\nthe\\nAccounting\\nFirm’ s\\nengagement.\\n(e)\\nPurchase\\nPrice\\nAdjustment\\n.\\nIf\\nany\\nof\\nthe\\nClosing\\nCash\\nAmount,\\nthe\\nClosing\\nDebt \\nAmount\\nor\\nthe\\nSeller\\nTransaction\\nExpenses\\n(as\\nfinally\\ndetermined\\npursuant\\nto\\nthis\\nSection\\n2.07 \\nand\\nas\\nset\\nforth\\nin\\nthe\\nFinal\\nClosing\\nStatement)\\ndiffers\\nfrom\\nthe\\nestimated\\namounts\\nthereof\\nset \\nforth\\nin\\nthe\\nEstimated\\nClosing\\nStatement,\\nthe\\nPurchase\\nPrice\\nshall\\nbe\\nrecalculated\\nusing\\nsuch \\nfinal\\nfigures\\nin\\nlieu\\nof\\nsuch\\nestimated\\nfigures,\\nand\\n(i)\\nthe\\nBuyer\\nshall\\npay\\nin\\ncash\\nto\\neach \\nCompany\\nSecurityholder\\nby\\nwire\\ntransfer\\nof\\nimmediately\\navailable\\nfunds\\nits\\nPro\\nRata\\nPercentage \\nof\\nthe\\namount,\\nif\\nany,\\nby\\nwhich\\nsuch\\nre-calculated\\nfinal\\nPurchase\\nPrice\\nexceeds\\nthe\\nestimated \\nPurchase\\nPrice\\npaid\\nat\\nClosing\\nin\\naccordance\\nwith\\nSection 2.05(a)(i)\\nand\\nSection\\n2.07(a)\\nand\\nthe \\nEscrow\\nAgent\\nshall\\nrelease\\nthe\\nEscrow\\nAmount\\nto\\nCompany\\nSecurityholders\\nin\\naccordance\\nwith \\nthe\\nEscrow\\nAgreement\\nor\\n(ii)\\nthe\\namount,\\nif\\nany,\\nby\\nwhich\\nsuch\\nestimated\\nPurchase\\nPrice\\npaid\\nat \\nClosing\\nin\\naccordance\\nwith\\nSection 2.05(a)(i)\\nand\\nSection\\n2.07(a)\\nexceeds\\nsuch\\nre-calculated \\nfinal\\nPurchase\\nPrice\\nshall\\nbe\\npaid\\nto\\nthe\\nBuyer ,\\nor\\nits\\ndesignee,\\nin\\naccordance\\nwith\\nthe\\nterms\\nof \\nthe\\nEscrow\\nAgreement\\n(and\\nany\\nremaining\\nbalance\\nof\\nthe\\nEscrow\\nAmount\\nnot\\nrequired\\nto\\nbe \\npaid\\nto\\nthe\\nBuyer\\nshall\\nbe\\nreleased\\nto\\nCompany\\nSecurityholders\\nin\\naccordance\\nwith\\nthe\\nterms\\nof \\nthe\\nEscrow\\nAgreement).\\nSection\\nI.04\\nEscrow\\n.\\n(a)\\nAt\\nClosing,\\nBuyer\\nwill\\ndeposit\\nthe\\nEscrow\\nAmount\\nin\\nescrow\\non\\nbehalf\\nof\\nthe \\nSellers\\nin\\naccordance\\nwith\\nthe\\nEscrow\\nAgreement.\\nThe\\nEscrow\\nAmount\\nshall\\nbe\\nheld\\nand, \\nsubject\\nto\\nSection\\n2.07,\\nreleased\\nto\\nthe\\nCompany\\nSecurityholders\\nin\\naccordance\\nwith\\nthe \\nprovisions\\nof\\nthe\\nEscrow\\nAgreement\\nwith\\nthe\\nCompany\\nSecurityholders\\nbeing\\nentitled\\nto\\nshare\\nin \\nsuch\\nreleased\\namounts\\nin\\naccordance\\nwith\\ntheir\\nPro\\nRata\\nPercentages.\\nFrom\\nand\\nafter\\nthe \\nClosing,\\nBuyer\\nand\\nthe\\nSellers’\\nRepresentative\\nwill\\ndirect\\nthe\\nEscrow\\nAgent\\nto\\ndisburse \\npayments\\nfrom\\nthe\\nEscrow\\nAccount\\nin\\naccordance\\nwith\\nthe\\npurchase\\nprice\\nadjustment\\nprovisions \\nof\\nthis\\nAgreement\\nand\\nthe\\nterms\\nof\\nthe\\nEscrow\\nAgreement\\nincluding:\\n(a)\\nin\\nthe\\ncase\\nof\\nany \\ndisbursement\\nthat\\nis\\nrequired\\nby\\nthe\\nterms\\nof\\nthis\\nAgreement\\nand\\nas\\nto\\nwhich\\nthere\\nis\\nno\\ndispute \\n(or\\nas\\nto\\nwhich\\nthe\\ndisputing\\nparty\\nhas\\nfailed\\nto\\nnotify\\nthe\\nEscrow\\nAgent\\nand\\nthe\\nother\\nparties\\nof \\nits\\ndispute\\nin\\naccordance\\nwith\\nany\\napplicable\\nrequirements\\nunder\\nthis\\nAgreement\\nand\\nthe\\nEscrow \\nAgreement),\\nthey\\nwill\\nprovide\\nprompt\\njoint\\npayment\\ninstructions\\ndirecting\\nthe\\nEscrow\\nAgent\\nto \\nmake\\nsuch\\ndisbursement\\nand\\n(b)\\nin\\nthe\\ncase\\nof\\na\\ndisbursement\\nas\\nto\\nwhich\\neither\\nthe\\nBuyer\\nor\\nthe \\nSeller ’s\\nRepresentative\\nhas\\nnotified\\nthe\\nother\\nand\\nthe\\nEscrow\\nAgent\\n(in\\naccordance\\nwith\\nany \\nnotice\\nand\\ntiming\\nrequirements\\napplicable\\nunder\\nthis\\nAgreement\\nand\\nthe\\nEscrow\\nAgreement)\\nthat \\nthere\\nis\\na\\ngood\\nfaith\\ndispute,\\nthey\\nwill\\nprovide\\njoint\\npayment\\ninstructions\\nto\\nthe\\nEscrow\\nAgent\\nto \\ndirect\\nthe\\nappropriate\\ndisbursement\\npromptly\\nupon\\nthe\\nresolution,\\nin\\naccordance\\nwith\\nthe \\nprovisions\\nof\\nthis\\nAgreement,\\nof\\nsuch\\ndispute.\\n(b)\\nRecovery\\nfrom\\nthe\\nEscrow\\nAmount\\nshall\\nconstitute\\nthe\\nBuyer ’s\\nexclusive\\nremedy \\nagainst\\nthe\\nCompany\\nSecurityholders\\nin\\nconnection\\nwith\\nany\\nclaim\\nrelating\\nto\\nany\\nadjustments\\nof\\n-\\n21\\n-\\n112923184_5', metadata={'page': 25, 'source': '../data/Raptor Contract.docx.pdf'}),\n",
       "  Document(page_content='Optionholders,\\nand\\n(d)\\nthe\\nEmployee\\nClosing\\nBonus\\nAmount\\n[to\\nthe\\nCompany]\\nfor\\nthe\\nbenefit\\nof \\nthe\\nEmployee\\nClosing\\nBonus\\nBeneficiaries\\n(the\\npayments\\nset\\nforth\\nin\\n(a)\\nthrough\\n(d),\\nthe \\n“\\nClosing\\nCash\\nAmounts\\n”).\\nExhibit\\n2.04\\nattached\\nhereto\\nis\\na\\nstatement\\n(the\\n“\\nEstimated\\nClosing \\nStatement\\n”)\\nsetting\\nforth\\n(i)\\nthe\\nSellers’\\nRepresentative’ s\\ngood\\nfaith\\nestimate\\n(together\\nwith \\nreasonable\\ndetail)\\nof\\nthe\\nClosing\\nCash\\nAmounts,\\n(ii)\\na\\nlist\\nof\\nall\\npayees\\nto\\nwhom\\nany\\nportion\\nof \\nthe\\nClosing\\nDebt\\nAmount\\nis\\npayable,\\n(iii)\\na\\nlist\\nof\\nall\\npayees\\nto\\nwhom\\nany\\nportion\\nof\\nthe\\nSeller \\nTransaction\\nExpenses\\nis\\npayable,\\n(iv)\\na\\nschedule\\nof\\nthe\\npayees\\nand\\naccounts\\n(including\\npayment \\ninstructions)\\nto\\nwhich\\neach\\nof\\nthe\\nforegoing\\npayments\\nis\\nto\\nbe\\npaid\\nand\\n(v)\\neach\\nCompany \\nSecurityholder ’s\\nPro\\nRata\\nPercentage\\n(the\\n“\\nAllocation\\nStatement\\n”).\\n6\\n(b)\\nAt\\nthe\\nClosing,\\nBuyer\\nshall\\ndeposit\\nthe\\nEscrow\\nAmount\\nwith\\nthe\\nEscrow\\nAgent\\nto \\nbe\\nheld\\nin\\na\\nseparate\\naccount\\n(the\\n“\\nEscrow\\nAccount\\n”).\\nThe\\nEscrow\\nAccount\\nshall\\nbe', metadata={'page': 21, 'source': '../data/Raptor Contract.docx.pdf'})],\n",
       " 'answer': 'The escrow amount is not explicitly stated in the provided context.'}"
      ]
     },
     "execution_count": 42,
     "metadata": {},
     "output_type": "execute_result"
    }
   ],
   "source": [
    "response = retrieval_chain.invoke({\n",
    "    \"input\": \"How much is the escrow amount?\"\n",
    "})\n",
    "response"
   ]
  },
  {
   "cell_type": "code",
   "execution_count": 43,
   "metadata": {},
   "outputs": [
    {
     "data": {
      "text/plain": [
       "[Document(page_content='the\\nBuyer ,\\nor\\nits\\ndesignee,\\nin\\naccordance\\nwith\\nthe\\nterms\\nof \\nthe\\nEscrow\\nAgreement\\n(and\\nany\\nremaining\\nbalance\\nof\\nthe\\nEscrow\\nAmount\\nnot\\nrequired\\nto\\nbe \\npaid\\nto\\nthe\\nBuyer\\nshall\\nbe\\nreleased\\nto\\nCompany\\nSecurityholders\\nin\\naccordance\\nwith\\nthe\\nterms\\nof \\nthe\\nEscrow\\nAgreement).\\nSection\\nI.04\\nEscrow\\n.\\n(a)\\nAt\\nClosing,\\nBuyer\\nwill\\ndeposit\\nthe\\nEscrow\\nAmount\\nin\\nescrow\\non\\nbehalf\\nof\\nthe \\nSellers\\nin\\naccordance\\nwith\\nthe\\nEscrow\\nAgreement.\\nThe\\nEscrow\\nAmount\\nshall\\nbe\\nheld\\nand, \\nsubject\\nto\\nSection\\n2.07,\\nreleased\\nto\\nthe\\nCompany\\nSecurityholders\\nin\\naccordance\\nwith\\nthe \\nprovisions\\nof\\nthe\\nEscrow\\nAgreement\\nwith\\nthe\\nCompany\\nSecurityholders\\nbeing\\nentitled\\nto\\nshare\\nin \\nsuch\\nreleased\\namounts\\nin\\naccordance\\nwith\\ntheir\\nPro\\nRata\\nPercentages.\\nFrom\\nand\\nafter\\nthe \\nClosing,\\nBuyer\\nand\\nthe\\nSellers’\\nRepresentative\\nwill\\ndirect\\nthe\\nEscrow\\nAgent\\nto\\ndisburse \\npayments\\nfrom\\nthe\\nEscrow\\nAccount\\nin\\naccordance\\nwith\\nthe\\npurchase\\nprice\\nadjustment\\nprovisions \\nof\\nthis\\nAgreement\\nand\\nthe\\nterms\\nof\\nthe\\nEscrow\\nAgreement\\nincluding:\\n(a)\\nin\\nthe\\ncase', metadata={'page': 25, 'source': '../data/Raptor Contract.docx.pdf'}),\n",
       " Document(page_content='forth\\nin\\nthe\\nEstimated\\nClosing\\nStatement,\\nthe\\nPurchase\\nPrice\\nshall\\nbe\\nrecalculated\\nusing\\nsuch \\nfinal\\nfigures\\nin\\nlieu\\nof\\nsuch\\nestimated\\nfigures,\\nand\\n(i)\\nthe\\nBuyer\\nshall\\npay\\nin\\ncash\\nto\\neach \\nCompany\\nSecurityholder\\nby\\nwire\\ntransfer\\nof\\nimmediately\\navailable\\nfunds\\nits\\nPro\\nRata\\nPercentage \\nof\\nthe\\namount,\\nif\\nany,\\nby\\nwhich\\nsuch\\nre-calculated\\nfinal\\nPurchase\\nPrice\\nexceeds\\nthe\\nestimated \\nPurchase\\nPrice\\npaid\\nat\\nClosing\\nin\\naccordance\\nwith\\nSection 2.05(a)(i)\\nand\\nSection\\n2.07(a)\\nand\\nthe \\nEscrow\\nAgent\\nshall\\nrelease\\nthe\\nEscrow\\nAmount\\nto\\nCompany\\nSecurityholders\\nin\\naccordance\\nwith \\nthe\\nEscrow\\nAgreement\\nor\\n(ii)\\nthe\\namount,\\nif\\nany,\\nby\\nwhich\\nsuch\\nestimated\\nPurchase\\nPrice\\npaid\\nat \\nClosing\\nin\\naccordance\\nwith\\nSection 2.05(a)(i)\\nand\\nSection\\n2.07(a)\\nexceeds\\nsuch\\nre-calculated \\nfinal\\nPurchase\\nPrice\\nshall\\nbe\\npaid\\nto\\nthe\\nBuyer ,\\nor\\nits\\ndesignee,\\nin\\naccordance\\nwith\\nthe\\nterms\\nof \\nthe\\nEscrow\\nAgreement\\n(and\\nany\\nremaining\\nbalance\\nof\\nthe\\nEscrow\\nAmount\\nnot\\nrequired\\nto\\nbe \\npaid\\nto\\nthe\\nBuyer\\nshall\\nbe\\nreleased\\nto\\nCompany', metadata={'page': 25, 'source': '../data/Raptor Contract.docx.pdf'}),\n",
       " Document(page_content='agreed\\nto\\nby\\nthe\\nparties\\nand\\nthe\\ndecision\\nof\\nthe\\nAccounting\\nFirm\\npursuant\\nto\\nthis\\nSection\\n2.07\\nis \\nreferred\\nto\\nherein\\nas\\nthe\\n“\\nFinal\\nClosing\\nStatement\\n”.\\nEach\\nof\\nthe\\nparties\\nto\\nthis\\nAgreement\\nagrees \\nto\\nuse\\nits\\ncommercially\\nreasonable\\nefforts\\nto\\ncooperate\\nwith\\nthe\\nAccounting\\nFirm\\n(including\\nby \\nexecuting\\na\\ncustomary\\nengagement\\nletter\\nreasonably\\nacceptable\\nto\\nit)\\nand\\nto\\ncause\\nthe \\nAccounting\\nFirm\\nto\\nresolve\\nany\\nsuch\\ndispute\\nas\\nsoon\\nas\\npracticable\\nafter\\nthe\\ncommencement\\nof \\nthe\\nAccounting\\nFirm’ s\\nengagement.\\n(e)\\nPurchase\\nPrice\\nAdjustment\\n.\\nIf\\nany\\nof\\nthe\\nClosing\\nCash\\nAmount,\\nthe\\nClosing\\nDebt \\nAmount\\nor\\nthe\\nSeller\\nTransaction\\nExpenses\\n(as\\nfinally\\ndetermined\\npursuant\\nto\\nthis\\nSection\\n2.07 \\nand\\nas\\nset\\nforth\\nin\\nthe\\nFinal\\nClosing\\nStatement)\\ndiffers\\nfrom\\nthe\\nestimated\\namounts\\nthereof\\nset \\nforth\\nin\\nthe\\nEstimated\\nClosing\\nStatement,\\nthe\\nPurchase\\nPrice\\nshall\\nbe\\nrecalculated\\nusing\\nsuch \\nfinal\\nfigures\\nin\\nlieu\\nof\\nsuch\\nestimated\\nfigures,\\nand\\n(i)\\nthe\\nBuyer\\nshall\\npay\\nin\\ncash\\nto\\neach \\nCompany\\nSecurityholder\\nby\\nwire\\ntransfer\\nof\\nimmediately\\navailable\\nfunds\\nits\\nPro\\nRata\\nPercentage \\nof\\nthe\\namount,\\nif\\nany,\\nby\\nwhich\\nsuch\\nre-calculated\\nfinal\\nPurchase\\nPrice\\nexceeds\\nthe\\nestimated \\nPurchase\\nPrice\\npaid\\nat\\nClosing\\nin\\naccordance\\nwith\\nSection 2.05(a)(i)\\nand\\nSection\\n2.07(a)\\nand\\nthe \\nEscrow\\nAgent\\nshall\\nrelease\\nthe\\nEscrow\\nAmount\\nto\\nCompany\\nSecurityholders\\nin\\naccordance\\nwith \\nthe\\nEscrow\\nAgreement\\nor\\n(ii)\\nthe\\namount,\\nif\\nany,\\nby\\nwhich\\nsuch\\nestimated\\nPurchase\\nPrice\\npaid\\nat \\nClosing\\nin\\naccordance\\nwith\\nSection 2.05(a)(i)\\nand\\nSection\\n2.07(a)\\nexceeds\\nsuch\\nre-calculated \\nfinal\\nPurchase\\nPrice\\nshall\\nbe\\npaid\\nto\\nthe\\nBuyer ,\\nor\\nits\\ndesignee,\\nin\\naccordance\\nwith\\nthe\\nterms\\nof \\nthe\\nEscrow\\nAgreement\\n(and\\nany\\nremaining\\nbalance\\nof\\nthe\\nEscrow\\nAmount\\nnot\\nrequired\\nto\\nbe \\npaid\\nto\\nthe\\nBuyer\\nshall\\nbe\\nreleased\\nto\\nCompany\\nSecurityholders\\nin\\naccordance\\nwith\\nthe\\nterms\\nof \\nthe\\nEscrow\\nAgreement).\\nSection\\nI.04\\nEscrow\\n.\\n(a)\\nAt\\nClosing,\\nBuyer\\nwill\\ndeposit\\nthe\\nEscrow\\nAmount\\nin\\nescrow\\non\\nbehalf\\nof\\nthe \\nSellers\\nin\\naccordance\\nwith\\nthe\\nEscrow\\nAgreement.\\nThe\\nEscrow\\nAmount\\nshall\\nbe\\nheld\\nand, \\nsubject\\nto\\nSection\\n2.07,\\nreleased\\nto\\nthe\\nCompany\\nSecurityholders\\nin\\naccordance\\nwith\\nthe \\nprovisions\\nof\\nthe\\nEscrow\\nAgreement\\nwith\\nthe\\nCompany\\nSecurityholders\\nbeing\\nentitled\\nto\\nshare\\nin \\nsuch\\nreleased\\namounts\\nin\\naccordance\\nwith\\ntheir\\nPro\\nRata\\nPercentages.\\nFrom\\nand\\nafter\\nthe \\nClosing,\\nBuyer\\nand\\nthe\\nSellers’\\nRepresentative\\nwill\\ndirect\\nthe\\nEscrow\\nAgent\\nto\\ndisburse \\npayments\\nfrom\\nthe\\nEscrow\\nAccount\\nin\\naccordance\\nwith\\nthe\\npurchase\\nprice\\nadjustment\\nprovisions \\nof\\nthis\\nAgreement\\nand\\nthe\\nterms\\nof\\nthe\\nEscrow\\nAgreement\\nincluding:\\n(a)\\nin\\nthe\\ncase\\nof\\nany \\ndisbursement\\nthat\\nis\\nrequired\\nby\\nthe\\nterms\\nof\\nthis\\nAgreement\\nand\\nas\\nto\\nwhich\\nthere\\nis\\nno\\ndispute \\n(or\\nas\\nto\\nwhich\\nthe\\ndisputing\\nparty\\nhas\\nfailed\\nto\\nnotify\\nthe\\nEscrow\\nAgent\\nand\\nthe\\nother\\nparties\\nof \\nits\\ndispute\\nin\\naccordance\\nwith\\nany\\napplicable\\nrequirements\\nunder\\nthis\\nAgreement\\nand\\nthe\\nEscrow \\nAgreement),\\nthey\\nwill\\nprovide\\nprompt\\njoint\\npayment\\ninstructions\\ndirecting\\nthe\\nEscrow\\nAgent\\nto \\nmake\\nsuch\\ndisbursement\\nand\\n(b)\\nin\\nthe\\ncase\\nof\\na\\ndisbursement\\nas\\nto\\nwhich\\neither\\nthe\\nBuyer\\nor\\nthe \\nSeller ’s\\nRepresentative\\nhas\\nnotified\\nthe\\nother\\nand\\nthe\\nEscrow\\nAgent\\n(in\\naccordance\\nwith\\nany \\nnotice\\nand\\ntiming\\nrequirements\\napplicable\\nunder\\nthis\\nAgreement\\nand\\nthe\\nEscrow\\nAgreement)\\nthat \\nthere\\nis\\na\\ngood\\nfaith\\ndispute,\\nthey\\nwill\\nprovide\\njoint\\npayment\\ninstructions\\nto\\nthe\\nEscrow\\nAgent\\nto \\ndirect\\nthe\\nappropriate\\ndisbursement\\npromptly\\nupon\\nthe\\nresolution,\\nin\\naccordance\\nwith\\nthe \\nprovisions\\nof\\nthis\\nAgreement,\\nof\\nsuch\\ndispute.\\n(b)\\nRecovery\\nfrom\\nthe\\nEscrow\\nAmount\\nshall\\nconstitute\\nthe\\nBuyer ’s\\nexclusive\\nremedy \\nagainst\\nthe\\nCompany\\nSecurityholders\\nin\\nconnection\\nwith\\nany\\nclaim\\nrelating\\nto\\nany\\nadjustments\\nof\\n-\\n21\\n-\\n112923184_5', metadata={'page': 25, 'source': '../data/Raptor Contract.docx.pdf'}),\n",
       " Document(page_content='Optionholders,\\nand\\n(d)\\nthe\\nEmployee\\nClosing\\nBonus\\nAmount\\n[to\\nthe\\nCompany]\\nfor\\nthe\\nbenefit\\nof \\nthe\\nEmployee\\nClosing\\nBonus\\nBeneficiaries\\n(the\\npayments\\nset\\nforth\\nin\\n(a)\\nthrough\\n(d),\\nthe \\n“\\nClosing\\nCash\\nAmounts\\n”).\\nExhibit\\n2.04\\nattached\\nhereto\\nis\\na\\nstatement\\n(the\\n“\\nEstimated\\nClosing \\nStatement\\n”)\\nsetting\\nforth\\n(i)\\nthe\\nSellers’\\nRepresentative’ s\\ngood\\nfaith\\nestimate\\n(together\\nwith \\nreasonable\\ndetail)\\nof\\nthe\\nClosing\\nCash\\nAmounts,\\n(ii)\\na\\nlist\\nof\\nall\\npayees\\nto\\nwhom\\nany\\nportion\\nof \\nthe\\nClosing\\nDebt\\nAmount\\nis\\npayable,\\n(iii)\\na\\nlist\\nof\\nall\\npayees\\nto\\nwhom\\nany\\nportion\\nof\\nthe\\nSeller \\nTransaction\\nExpenses\\nis\\npayable,\\n(iv)\\na\\nschedule\\nof\\nthe\\npayees\\nand\\naccounts\\n(including\\npayment \\ninstructions)\\nto\\nwhich\\neach\\nof\\nthe\\nforegoing\\npayments\\nis\\nto\\nbe\\npaid\\nand\\n(v)\\neach\\nCompany \\nSecurityholder ’s\\nPro\\nRata\\nPercentage\\n(the\\n“\\nAllocation\\nStatement\\n”).\\n6\\n(b)\\nAt\\nthe\\nClosing,\\nBuyer\\nshall\\ndeposit\\nthe\\nEscrow\\nAmount\\nwith\\nthe\\nEscrow\\nAgent\\nto \\nbe\\nheld\\nin\\na\\nseparate\\naccount\\n(the\\n“\\nEscrow\\nAccount\\n”).\\nThe\\nEscrow\\nAccount\\nshall\\nbe', metadata={'page': 21, 'source': '../data/Raptor Contract.docx.pdf'})]"
      ]
     },
     "execution_count": 43,
     "metadata": {},
     "output_type": "execute_result"
    }
   ],
   "source": [
    "response['context']"
   ]
  },
  {
   "cell_type": "code",
   "execution_count": null,
   "metadata": {},
   "outputs": [],
   "source": []
  }
 ],
 "metadata": {
  "kernelspec": {
   "display_name": "legal_contract_advisor",
   "language": "python",
   "name": "python3"
  },
  "language_info": {
   "codemirror_mode": {
    "name": "ipython",
    "version": 3
   },
   "file_extension": ".py",
   "mimetype": "text/x-python",
   "name": "python",
   "nbconvert_exporter": "python",
   "pygments_lexer": "ipython3",
   "version": "3.10.13"
  }
 },
 "nbformat": 4,
 "nbformat_minor": 2
}
